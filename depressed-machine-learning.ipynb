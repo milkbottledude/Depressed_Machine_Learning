{
 "cells": [
  {
   "cell_type": "code",
   "execution_count": 1,
   "id": "fa52beaf",
   "metadata": {
    "_cell_guid": "b1076dfc-b9ad-4769-8c92-a6c4dae69d19",
    "_uuid": "8f2839f25d086af736a60e9eeb907d3b93b6e0e5",
    "execution": {
     "iopub.execute_input": "2024-11-30T04:43:13.393988Z",
     "iopub.status.busy": "2024-11-30T04:43:13.393577Z",
     "iopub.status.idle": "2024-11-30T04:43:14.257470Z",
     "shell.execute_reply": "2024-11-30T04:43:14.256382Z"
    },
    "papermill": {
     "duration": 0.873428,
     "end_time": "2024-11-30T04:43:14.259833",
     "exception": false,
     "start_time": "2024-11-30T04:43:13.386405",
     "status": "completed"
    },
    "tags": []
   },
   "outputs": [
    {
     "name": "stdout",
     "output_type": "stream",
     "text": [
      "/kaggle/input/playground-series-s4e11/sample_submission.csv\n",
      "/kaggle/input/playground-series-s4e11/train.csv\n",
      "/kaggle/input/playground-series-s4e11/test.csv\n"
     ]
    }
   ],
   "source": [
    "# This Python 3 environment comes with many helpful analytics libraries installed\n",
    "# It is defined by the kaggle/python Docker image: https://github.com/kaggle/docker-python\n",
    "# For example, here's several helpful packages to load\n",
    "\n",
    "import numpy as np # linear algebra\n",
    "import pandas as pd # data processing, CSV file I/O (e.g. pd.read_csv)\n",
    "\n",
    "# Input data files are available in the read-only \"../input/\" directory\n",
    "# For example, running this (by clicking run or pressing Shift+Enter) will list all files under the input directory\n",
    "\n",
    "import os\n",
    "for dirname, _, filenames in os.walk('/kaggle/input'):\n",
    "    for filename in filenames:\n",
    "        print(os.path.join(dirname, filename))\n",
    "\n",
    "# You can write up to 20GB to the current directory (/kaggle/working/) that gets preserved as output when you create a version using \"Save & Run All\" \n",
    "# You can also write temporary files to /kaggle/temp/, but they won't be saved outside of the current session"
   ]
  },
  {
   "cell_type": "markdown",
   "id": "f1a9ed4d",
   "metadata": {
    "papermill": {
     "duration": 0.003162,
     "end_time": "2024-11-30T04:43:14.267401",
     "exception": false,
     "start_time": "2024-11-30T04:43:14.264239",
     "status": "completed"
    },
    "tags": []
   },
   "source": [
    "# 1) Data Cleaning"
   ]
  },
  {
   "cell_type": "markdown",
   "id": "ec986f1d",
   "metadata": {
    "papermill": {
     "duration": 0.003133,
     "end_time": "2024-11-30T04:43:14.273936",
     "exception": false,
     "start_time": "2024-11-30T04:43:14.270803",
     "status": "completed"
    },
    "tags": []
   },
   "source": [
    "## configuring training data"
   ]
  },
  {
   "cell_type": "code",
   "execution_count": 2,
   "id": "4207c6f6",
   "metadata": {
    "execution": {
     "iopub.execute_input": "2024-11-30T04:43:14.283057Z",
     "iopub.status.busy": "2024-11-30T04:43:14.281906Z",
     "iopub.status.idle": "2024-11-30T04:43:14.997365Z",
     "shell.execute_reply": "2024-11-30T04:43:14.995880Z"
    },
    "papermill": {
     "duration": 0.722495,
     "end_time": "2024-11-30T04:43:14.999717",
     "exception": false,
     "start_time": "2024-11-30T04:43:14.277222",
     "status": "completed"
    },
    "tags": []
   },
   "outputs": [
    {
     "name": "stdout",
     "output_type": "stream",
     "text": [
      "3.027409919035535\n",
      "7.77\n",
      "fillNaN complete\n"
     ]
    }
   ],
   "source": [
    "train_data = pd.read_csv(\"/kaggle/input/playground-series-s4e11/train.csv\")\n",
    "# first imma get rid of the columns that obviously have no relation to whether one has depression or not\n",
    "# removing columns 'id' and 'Name'\n",
    "train_data = train_data.drop(['id', 'Name'], axis=1)\n",
    "\n",
    "# function to check for NaN values in a column\n",
    "def checknan(colname):\n",
    "    print(train_data[train_data[colname].isna()])\n",
    "\n",
    "# function to fillna with either mean, median, 0, or another column\n",
    "def fillNaN(colnamelist, type, othercol=None):\n",
    "    if type == 'mean':\n",
    "        for colname in colnamelist:\n",
    "            train_data.fillna({colname: train_data[colname].mean()}, inplace = True)\n",
    "    elif type == 'median':\n",
    "        for colname in colnamelist:\n",
    "            train_data.fillna({colname: train_data[colname].median()}, inplace = True)\n",
    "    elif type == 0:\n",
    "        for colname in colnamelist:\n",
    "            train_data.fillna({colname: 0}, inplace = True)\n",
    "    elif type == 'othercol':\n",
    "        for colname in colnamelist:\n",
    "            train_data.fillna({colname: train_data[othercol]}, inplace = True)\n",
    "    print('fillNaN complete')\n",
    "        \n",
    "# dealing with NaNs in column: Profession\n",
    "train_data['Profession'] = train_data['Profession'].fillna(train_data['Working Professional or Student'])\n",
    "\n",
    "# dealing with NaNs in columns: Academic Pressure & Work Pressure\n",
    "train_data['Work Pressure'] = train_data['Work Pressure'].fillna(train_data['Academic Pressure'])\n",
    "train_data['Pressure'] = train_data['Work Pressure']\n",
    "train_data.drop(['Work Pressure', 'Academic Pressure'], axis=1, inplace=True)\n",
    "mean_trainpressure = train_data['Pressure'].mean()\n",
    "print(mean_trainpressure)\n",
    "train_data.fillna({'Pressure': mean_trainpressure}, inplace=True)\n",
    "\n",
    "# dealing with NaNs in column: CGPA\n",
    "print(train_data['CGPA'].median())\n",
    "train_data['CGPA'] = train_data['CGPA'].fillna(train_data['CGPA'].median())\n",
    "\n",
    "# dealing with NaNs in columns: Study Satisfaction and Job Satisfaction\n",
    "train_data['Job Satisfaction'] = train_data['Job Satisfaction'].fillna(train_data['Study Satisfaction'])\n",
    "train_data.fillna({'Job Satisfaction': train_data['Job Satisfaction'].mean()}, inplace=True)\n",
    "train_data['Career Satisfaction'] = train_data['Job Satisfaction']\n",
    "train_data.drop(['Job Satisfaction', 'Study Satisfaction'], axis=1, inplace=True)\n",
    "\n",
    "# Dietary Habits and Degree columns\n",
    "train_data.fillna({'Degree': 'Unknown Degree', 'Dietary Habits': 'Moderate'}, inplace=True)\n",
    "\n",
    "# Financial Stress\n",
    "fillNaN(['Financial Stress'], 'mean')\n",
    "\n"
   ]
  },
  {
   "cell_type": "markdown",
   "id": "1fce62f0",
   "metadata": {
    "papermill": {
     "duration": 0.003597,
     "end_time": "2024-11-30T04:43:15.007076",
     "exception": false,
     "start_time": "2024-11-30T04:43:15.003479",
     "status": "completed"
    },
    "tags": []
   },
   "source": [
    "## configuring test data"
   ]
  },
  {
   "cell_type": "code",
   "execution_count": 3,
   "id": "4d93cdfe",
   "metadata": {
    "execution": {
     "iopub.execute_input": "2024-11-30T04:43:15.016032Z",
     "iopub.status.busy": "2024-11-30T04:43:15.015645Z",
     "iopub.status.idle": "2024-11-30T04:43:15.446228Z",
     "shell.execute_reply": "2024-11-30T04:43:15.444917Z"
    },
    "papermill": {
     "duration": 0.437834,
     "end_time": "2024-11-30T04:43:15.448658",
     "exception": false,
     "start_time": "2024-11-30T04:43:15.010824",
     "status": "completed"
    },
    "tags": []
   },
   "outputs": [
    {
     "name": "stdout",
     "output_type": "stream",
     "text": [
      "7.8\n",
      "fillNaN complete\n"
     ]
    }
   ],
   "source": [
    "test_data = pd.read_csv(\"/kaggle/input/playground-series-s4e11/test.csv\")\n",
    "# extracting the id column for submission later\n",
    "Id_Series = test_data['id']\n",
    "test_data.drop(['Name', 'id'], axis=1, inplace=True)\n",
    "\n",
    "# function to check for NaN values in a column\n",
    "def checknan(colname):\n",
    "    print(test_data[test_data[colname].isna()])\n",
    "\n",
    "# function to fillna with either mean, median, 0, or another column\n",
    "def fillNaN(colnamelist, type, othercol=None):\n",
    "    if type == 'mean':\n",
    "        for colname in colnamelist:\n",
    "            test_data.fillna({colname: train_data[colname].mean()}, inplace = True) # fillna with training data mean\n",
    "    elif type == 'median':\n",
    "        for colname in colnamelist:\n",
    "            test_data.fillna({colname: train_data[colname].median()}, inplace = True) # fillna with training data median\n",
    "    elif type == 0:\n",
    "        for colname in colnamelist:\n",
    "            test_data.fillna({colname: 0}, inplace = True)\n",
    "    elif type == 'othercol':\n",
    "        for colname in colnamelist:\n",
    "            test_data.fillna({colname: test_data[othercol]}, inplace = True)\n",
    "    print('fillNaN complete')\n",
    "        \n",
    "# dealing with NaNs in column: Profession\n",
    "test_data['Profession'] = test_data['Profession'].fillna(test_data['Working Professional or Student'])\n",
    "\n",
    "# dealing with NaNs in columns: Academic Pressure & Work Pressure\n",
    "test_data['Work Pressure'] = test_data['Work Pressure'].fillna(test_data['Academic Pressure'])\n",
    "test_data['Pressure'] = test_data['Work Pressure']\n",
    "test_data.drop(['Work Pressure', 'Academic Pressure'], axis=1, inplace=True)\n",
    "test_data.fillna({'Pressure': mean_trainpressure}, inplace=True)\n",
    "\n",
    "# dealing with NaNs in column: CGPA\n",
    "print(test_data['CGPA'].median())\n",
    "test_data['CGPA'] = test_data['CGPA'].fillna(train_data['CGPA'].median())\n",
    "\n",
    "# dealing with NaNs in columns: Study Satisfaction and Job Satisfaction\n",
    "test_data['Job Satisfaction'] = test_data['Job Satisfaction'].fillna(test_data['Study Satisfaction'])\n",
    "test_data.fillna({'Job Satisfaction': train_data['Career Satisfaction'].mean()}, inplace=True)\n",
    "test_data['Career Satisfaction'] = test_data['Job Satisfaction']\n",
    "test_data.drop(['Job Satisfaction', 'Study Satisfaction'], axis=1, inplace=True)\n",
    "\n",
    "# Dietary Habits and Degree columns\n",
    "test_data.fillna({'Degree': 'Unknown Degree', 'Dietary Habits': 'Moderate'}, inplace=True)\n",
    "\n",
    "# Financial Stress\n",
    "fillNaN(['Financial Stress'], 'mean')\n",
    "testcities = test_data['City'].unique()\n"
   ]
  },
  {
   "cell_type": "markdown",
   "id": "16dd7926",
   "metadata": {
    "papermill": {
     "duration": 0.00348,
     "end_time": "2024-11-30T04:43:15.456032",
     "exception": false,
     "start_time": "2024-11-30T04:43:15.452552",
     "status": "completed"
    },
    "tags": []
   },
   "source": [
    "checking all columns for values that are in one dataset but not in the other, as well as getting rid of nonsense data values"
   ]
  },
  {
   "cell_type": "code",
   "execution_count": 4,
   "id": "0486c75a",
   "metadata": {
    "execution": {
     "iopub.execute_input": "2024-11-30T04:43:15.465752Z",
     "iopub.status.busy": "2024-11-30T04:43:15.465363Z",
     "iopub.status.idle": "2024-11-30T04:43:17.530295Z",
     "shell.execute_reply": "2024-11-30T04:43:17.529046Z"
    },
    "papermill": {
     "duration": 2.073026,
     "end_time": "2024-11-30T04:43:17.532897",
     "exception": false,
     "start_time": "2024-11-30T04:43:15.459871",
     "status": "completed"
    },
    "tags": []
   },
   "outputs": [],
   "source": [
    "# columns to fix: 'City', 'Profession', 'Degree'\n",
    "both_datasets = pd.concat([train_data, test_data], axis=0)\n",
    "# fixing weird profession names\n",
    "both_datasets['Profession'] = both_datasets['Profession'].replace({'Finanancial Analyst': 'Financial Analyst', 'B.Pharm': 'Pharmacist', 'M.Pharm': 'Pharmacist', 'Family Consultant': 'Consultant'})\n",
    "# replacing gibberish in the 'Profession' column with 'Unknown Profession'\n",
    "both_datasets['Profession'] = both_datasets['Profession'].replace(['Visakhapatnam', 'B.Ed', 'MCA', 'FamilyVirar', '24th', 'M.Ed', 'Working Professional', 'MBBS', 'BBA', 'B.Com', '3M', 'PhD', 'Pranav', 'Manvi', 'BE', 'Simran', 'No', 'Unveil', 'Patna', 'Name', 'LLM', 'Yogesh', 'MBA', 'Moderate', 'Profession', 'BCA', 'Samar', 'Unhealthy', 'ME', 'Yuvraj', 'Surat', 'Nagpur', 'Academic'], 'Unknown Profession')\n",
    "\n",
    "# Version 17: getting rid of nonsense degrees in the 'Degree' column\n",
    "both_datasets['Degree'] = both_datasets['Degree'].replace({'H_Pharm': 'B.Pharm', 'N_Pharm': 'M.Pharm', 'B._Pharm': 'B.Pharm', 'M.B.Ed': 'M.Ed', 'B.M.Com': 'M.Com', 'B BA': 'BBA', 'B B.Com': 'B.Com', 'BTech': 'B.Tech', 'B B.Tech': 'B.Tech', 'B.B.Arch': 'B.Arch', 'BPharm': 'B.Pharm', 'M.M.Ed': 'M.Ed', 'M. Business Analyst': 'MSBA', 'MTech': 'M.Tech', 'MEd': 'M.Ed', 'M_Tech': 'M.Tech', 'B Financial Analyst': 'BSBA', 'LLBA': 'BA', 'LL B.Ed': 'B.Ed', 'B BCA': 'BCA', 'BSc': 'BS'})\n",
    "both_datasets['Degree'] = both_datasets['Degree'].replace(['CGPA', 'Marsh', 'Vibha', 'LHM', 'PCA', '5.61', 'I.Ed', 'B.Study_Hours', 'Entrepreneur', 'Bhavesh', 'Working Professional', 'P.Com', 'Degree', 'Mahika', 'LLCom', '8.95', 'E.Ed', 'J.Ed', 'ME', 'LLM', '3.0', 'Badhya', 'Moham', 'Advait', '5.65', 'B._Pharm', 'M.B.Ed', 'RCA', 'Rupak', 'Vrinda', 'Kavya', 'UX/UI Designer', 'M', 'Travel Consultant', 'Veda', 'Mihir', 'Unite', 'Mthanya', 'B. Gender', 'L.Ed', 'Plumber', 'Unknown Degree', 'GCA', 'M.UI', 'Brit', 'Kalyan', 'G.Ed', 'LCA', 'LLTech', 'BH', 'HCA', 'A.Ed', 'S.Pharm', 'S.Tech', 'Vivaan', 'B.Student', 'M.', 'B.03', 'Business Analyst', 'Nalini', 'B.3.79', 'Aarav', 'Navya', 'K.Ed', 'Pihu', 'Banchal', 'B.H', 'Jhanvi', '8.56', 'BB', 'LLEd', 'Eshita', 'Bhopal', 'BHCA', 'Magan', '7.06', 'Aadhya', '5.88', 'Pune', '24', 'P.Pharm', 'Bian', 'Esha', 'LLS', '29', 'ACA', 'Brithika', 'Gagan', 'HR Manager', 'MHM', 'Mechanical Engineer', 'LL.Com', 'Doctor', '20', 'Lata', 'B', 'S.Arch', '0', 'Ritik', 'B.Press', 'E.Tech', '5.56'], 'Unknown Degree')\n",
    "\n",
    "# Version 17: getting rid of nonsense degrees in the 'City' column\n",
    "both_datasets['City'] = both_datasets['City'].replace(['Less Delhi', 'More Delhi'], 'Delhi') # im assuming these 2 values are typos for the city Delhi\n",
    "both_datasets['City'] = both_datasets['City'].replace(['Abhinav', 'Pooja', 'Unirar', 'Ayush', 'Lawyer', 'Armaan', 'Nalyan', 'Kagan', 'M.Com', 'Avni', 'Harsh', 'Mhopal', 'Kibara', 'Vaikot', 'ME', 'Kashish', 'Pratham', 'Molkata', 'Vaanya', 'Anvi', 'Ayansh', 'Khushi', 'Leela', 'Saanvi', 'Raghavendra', 'Harsha', 'Mihir', 'MSc', 'Moreadhyay', 'Vikram', 'Keshav', 'M.Tech', 'Chemist', 'Mahi', 'Kashk', 'Krinda', 'Malyan', 'Tushar', 'Saurav', 'San Vasai-Virar', 'Nandini', 'Mira', 'Krishna', 'Rolkata', 'Ivaan', 'Rashi', 'No', 'Siddhesh', 'Less than 5 Kalyan', 'Nalini', 'Aishwarya', 'Golkata', 'City', 'Vidya', 'Aaradhya', 'Ishanabad', 'Jhanvi', 'Khaziabad', 'Is Kanpur', 'No.12', 'Shrey', 'Aditya', 'Itheg', 'Bhavna', 'Atharv', 'Ghaziabad', 'Less than 5 hours', 'Parth', 'Ithal', 'Thani', 'Ghopal', 'Researcher', 'Vaishnavi', 'Chhavi', 'Malyansh', 'Galesabad', 'Hrithik', 'Reyansh', 'Tolkata', 'Ishkarsh', 'Dhruv', 'Pratyush', 'Sara', 'Vidhi', 'Aditi'], 'Unknown City')\n",
    "\n",
    "# getting train_data for the purpose of calculating the training data's mean sleep duration\n",
    "train_data = both_datasets.iloc[:len(train_data)].copy()"
   ]
  },
  {
   "cell_type": "markdown",
   "id": "8adf5281",
   "metadata": {
    "papermill": {
     "duration": 0.00342,
     "end_time": "2024-11-30T04:43:17.540195",
     "exception": false,
     "start_time": "2024-11-30T04:43:17.536775",
     "status": "completed"
    },
    "tags": []
   },
   "source": [
    "#### Tidying the columns 'Sleep Duration' and 'Dietary Habits' cuz some of their values r just stupid\n",
    "\n",
    "messy ahh dataset"
   ]
  },
  {
   "cell_type": "code",
   "execution_count": 5,
   "id": "0f84b1ec",
   "metadata": {
    "execution": {
     "iopub.execute_input": "2024-11-30T04:43:17.549557Z",
     "iopub.status.busy": "2024-11-30T04:43:17.549113Z",
     "iopub.status.idle": "2024-11-30T04:43:22.571599Z",
     "shell.execute_reply": "2024-11-30T04:43:22.570559Z"
    },
    "papermill": {
     "duration": 5.030214,
     "end_time": "2024-11-30T04:43:22.574004",
     "exception": false,
     "start_time": "2024-11-30T04:43:17.543790",
     "status": "completed"
    },
    "tags": []
   },
   "outputs": [
    {
     "name": "stdout",
     "output_type": "stream",
     "text": [
      "25567\n"
     ]
    },
    {
     "data": {
      "image/png": "[encoded data removed]",
      "text/plain": [
       "<Figure size 640x480 with 1 Axes>"
      ]
     },
     "metadata": {},
     "output_type": "display_data"
    },
    {
     "data": {
      "image/png": "[encoded data removed]",
      "text/plain": [
       "<Figure size 640x480 with 1 Axes>"
      ]
     },
     "metadata": {},
     "output_type": "display_data"
    }
   ],
   "source": [
    "import matplotlib.pyplot as pyplot\n",
    "\n",
    "honkshoo = {\n",
    "    '40-45 hours': 6,\n",
    "    'More than 8 hours': 9,\n",
    "    '1-3 hours': 2,\n",
    "    '9-11 hours': 10,\n",
    "    '9-6 hours': 7,\n",
    "    '8 hours': 8,\n",
    "    '35-36 hours': 5,\n",
    "    '1-2 hours': 1,\n",
    "    '10-6 hours': 8,\n",
    "    'than 5 hours': 5,\n",
    "    '1-6 hours': 4,\n",
    "    '8-9 hours': 9,\n",
    "    '9-5': 7,\n",
    "    '9-10 hours': 9,\n",
    "    '20-21 hours': 3,\n",
    "    '5-6 hours': 6,\n",
    "    '45-48 hours': 7,\n",
    "    '2-3 hours': 3,\n",
    "    '6-7 hours': 6,\n",
    "    '55-66 hours': 9,\n",
    "    '45': 6,\n",
    "    '7-8 hours': 7,\n",
    "    '10-11 hours': 10,\n",
    "    '4-6 hours': 5,\n",
    "    'Less than 5 hours': 3,\n",
    "    '4-5 hours': 4,\n",
    "    '1-2 hours': 1,\n",
    "    '6-8 hours': 7,\n",
    "    '8-89 hours': 12,\n",
    "    '49 hours': 7,\n",
    "    '3-6 hours': 4,\n",
    "    '60-65 hours': 9,\n",
    "    '6 hours': 6,\n",
    "    '9-5 hours': 7,\n",
    "    '50-75 hours': 9,\n",
    "    '3-4 hours': 3\n",
    "}\n",
    "# column values not in honkshoo: Moderate, Unhealthy, Have_you_ever_had_suicidal_thoughts, Work_Study_Hours, No, Meerut, 0, Vivan, Indore, Sleep_Duration, Pune\n",
    "\n",
    "train_data['Sleep Duration'] = train_data['Sleep Duration'].map(honkshoo)\n",
    "both_datasets['Sleep Duration'] = both_datasets['Sleep Duration'].map(honkshoo)\n",
    "\n",
    "# replacing NaN values in 'Sleep Duration' with the mean\n",
    "meansleep = train_data['Sleep Duration'].mean()\n",
    "both_datasets['Sleep Duration'] = both_datasets['Sleep Duration'].fillna(meansleep)\n",
    "\n",
    "# moving on to 'Dietary Habits' column\n",
    "dhabits = {\n",
    "    'Unhealthy': 1,\n",
    "    'Moderate': 2,\n",
    "    'Healthy': 3,\n",
    "    'No Healthy': 1,\n",
    "    'More Healthy': 3,\n",
    "    'Less than Healthy': 1,\n",
    "    'Less Healthy': 1\n",
    "}\n",
    "both_datasets['Dietary Habits'] = both_datasets['Dietary Habits'].map(dhabits)\n",
    "both_datasets['Dietary Habits'] = both_datasets['Dietary Habits'].fillna(2)\n",
    "\n",
    "# gonna experiment and drop certain columns to see if they would improve accuracy\n",
    "both_datasets = both_datasets.drop(['City'], axis=1)\n",
    "# getting dummies in both_datasets so that both train_data and test_data will have the same columns after splitting\n",
    "both_datasets = pd.get_dummies(both_datasets)\n",
    "\n",
    "#Version 22, feature engineering 'satisfaction_per_financialstress' Edit: realised this variable has a positive coefficient meaning as this value goes up, the greater the model thinks one has depression, which should not be the case so ill '#' the following line of code.\n",
    "both_datasets['satisfaction_per_financialstress'] = both_datasets['Career Satisfaction']/both_datasets['Financial Stress']\n",
    "\n",
    "#Version 23, feature engineering 'CareerHours_to_Sleep' Edit: thinking of removing this as it has a negative correlation, which makes no sense as a high work hour to sleep hour ratio should be bad for a person. oh wait but maybe a certain range is good but a ratio thats too high or too low is bad. THIS COLUMN CAN BE THE START OF QUANTIFYING WORK-LIFE BALANCE omg eureka moment. print out the row and print a distribution, print the depression or not row as well to see whats the sweet spot for the ratio, see the max few rat\n",
    "both_datasets['CareerHours_to_Sleep'] = both_datasets['Work/Study Hours']/both_datasets['Sleep Duration']\n",
    "\n",
    "# splitting both_datasets to get back train_data and test_data\n",
    "train_data = both_datasets.iloc[:len(train_data)].copy()\n",
    "test_data = both_datasets.iloc[len(train_data):].copy()\n",
    "\n",
    "# Version 23: seeing the distribution of the 'CareerHours_to_Sleep' values in the train_data for both rows with and without depression\n",
    "# this is to try and see what kind of ratios are most common in people with depression and without\n",
    "train_depressed = train_data[train_data['Depression'] == 1] # with depression\n",
    "print(len(train_depressed))\n",
    "ratio1 = train_depressed['satisfaction_per_financialstress']\n",
    "ratio1 = np.array(ratio1)\n",
    "pyplot.hist(ratio1, bins=8) \n",
    "pyplot.xlabel('ratio1')\n",
    "pyplot.ylabel('frequency')\n",
    "pyplot.show()\n",
    "\n",
    "train_notdepressed = train_data[train_data['Depression'] == 0]\n",
    "ratio0 = train_notdepressed['satisfaction_per_financialstress']\n",
    "ratio0 = np.array(ratio0)\n",
    "pyplot.hist(ratio0, bins=8) \n",
    "pyplot.xlabel('ratio0')\n",
    "pyplot.ylabel('frequency')\n",
    "pyplot.show()\n",
    "\n",
    "# # converting 'satisfaction_per_financialstress' into columns 'financiallyjustified' and 'financiallynotjustified'. Edit: putting this on hold for now\n",
    "# train_data['financiallyjustified'] = train_data['satisfaction_per_financialstress'] >= 1\n",
    "# train_data['financiallynotjustified'] = train_data['satisfaction_per_financialstress'] < 1\n",
    "# test_data['financiallyjustified'] = test_data['satisfaction_per_financialstress'] >= 1\n",
    "# test_data['financiallynotjustified'] = test_data['satisfaction_per_financialstress'] < 1\n",
    "\n",
    "# it is with sadness that i announce the removal of my homie, column 'CareerHours_to_Sleep', from the dataset. And satisfaction_per_financialstress too, i dont need u no more\n",
    "train_data = train_data.drop(['CareerHours_to_Sleep','satisfaction_per_financialstress'], axis=1)\n",
    "test_data = test_data.drop(['CareerHours_to_Sleep', 'satisfaction_per_financialstress'], axis=1)\n",
    "\n",
    "# Version 31 dealing with feature correlation\n",
    "correlation_matrix = train_data.corr()\n",
    "# print(correlation_matrix)\n",
    "train_data = train_data.drop(['Have you ever had suicidal thoughts ?_No','Family History of Mental Illness_No'], axis=1)\n",
    "test_data = test_data.drop(['Have you ever had suicidal thoughts ?_No', 'Family History of Mental Illness_No'], axis=1)"
   ]
  },
  {
   "cell_type": "markdown",
   "id": "e4c92263",
   "metadata": {
    "papermill": {
     "duration": 0.004044,
     "end_time": "2024-11-30T04:43:22.583506",
     "exception": false,
     "start_time": "2024-11-30T04:43:22.579462",
     "status": "completed"
    },
    "tags": []
   },
   "source": [
    "# 2) Configuring Machine Learning model (finally)"
   ]
  },
  {
   "cell_type": "code",
   "execution_count": 6,
   "id": "1ff0a998",
   "metadata": {
    "execution": {
     "iopub.execute_input": "2024-11-30T04:43:22.593850Z",
     "iopub.status.busy": "2024-11-30T04:43:22.593454Z",
     "iopub.status.idle": "2024-11-30T04:43:27.331636Z",
     "shell.execute_reply": "2024-11-30T04:43:27.330527Z"
    },
    "papermill": {
     "duration": 4.745838,
     "end_time": "2024-11-30T04:43:27.333684",
     "exception": false,
     "start_time": "2024-11-30T04:43:22.587846",
     "status": "completed"
    },
    "tags": []
   },
   "outputs": [
    {
     "name": "stdout",
     "output_type": "stream",
     "text": [
      "100\n",
      "Threshold: 0.25, TPR: 0.9024003173973418, FPR: 0.07030607385601108, Accuracy: 0.92480\n",
      "Threshold: 0.45, TPR: 0.8369371156516564, FPR: 0.03913589332871553, Accuracy: 0.93866\n",
      "Threshold: 0.5, TPR: 0.8161079150962111, FPR: 0.03376769557123685, Accuracy: 0.93933\n",
      "Threshold: 0.55, TPR: 0.7901210077365602, FPR: 0.029481795748733712, Accuracy: 0.93820\n",
      "Threshold: 0.6, TPR: 0.7651259670700258, FPR: 0.02510931209143253, Accuracy: 0.93731\n",
      "Threshold: 0.7, TPR: 0.6970839119222376, FPR: 0.0172301831248106, Accuracy: 0.93159\n"
     ]
    },
    {
     "data": {
      "image/png": "[encoded data removed]",
      "text/plain": [
       "<Figure size 640x480 with 1 Axes>"
      ]
     },
     "metadata": {},
     "output_type": "display_data"
    }
   ],
   "source": [
    "# getting X and y from the train_data\n",
    "X = train_data.drop('Depression', axis=1)\n",
    "columnnames = X.columns\n",
    "print(len(columnnames))\n",
    "y = train_data['Depression']\n",
    "\n",
    "# scaling the numerical values in X\n",
    "from sklearn.preprocessing import StandardScaler, MinMaxScaler\n",
    "scaler = StandardScaler()\n",
    "X = scaler.fit_transform(X)\n",
    "\n",
    "# splitting up the training data further to get a mock test dataset\n",
    "from sklearn.model_selection import train_test_split\n",
    "X_train, X_test, y_train, y_test = train_test_split(X, y, test_size=0.2, random_state=0)\n",
    "\n",
    "# to start, lets try a simple Logistic Regression classification model with just 1 custom hyperparam\n",
    "from sklearn.linear_model import LogisticRegression\n",
    "\n",
    "model = LogisticRegression(random_state=0, max_iter=150, penalty='l2', C=0.1) # Version 25: introducing l2 regularization\n",
    "model.fit(X_train, y_train)\n",
    "# predictions = model.predict(X_test)\n",
    "\n",
    "# looping thru different threshold values to get coords for roc curve\n",
    "from sklearn.metrics import accuracy_score, confusion_matrix\n",
    "TPRvalues = []\n",
    "FPRvalues = []\n",
    "for threshold in [0.25, 0.45, 0.5, 0.55, 0.6, 0.7]:\n",
    "    y_probs = model.predict_proba(X_test)[:, 1]  # Probabilities for the positive class\n",
    "    predictions = (y_probs >= threshold).astype(int)\n",
    "    cm = confusion_matrix(y_test, predictions)\n",
    "    # Extract TP, FP, TN, FN from the confusion matrix\n",
    "    TP = cm[1, 1]  # True Positives\n",
    "    TN = cm[0, 0]  # True Negatives\n",
    "    FP = cm[0, 1]  # False Positives\n",
    "    FN = cm[1, 0]  # False Negatives\n",
    "    \n",
    "    # Calculate True Positive Rate (TPR) and False Positive Rate (FPR)\n",
    "    TPR = TP / (TP + FN)\n",
    "    FPR = FP / (FP + TN)\n",
    "\n",
    "    TPRvalues.append(TPR)\n",
    "    FPRvalues.append(FPR)\n",
    "    accuracy = accuracy_score(y_test, predictions)\n",
    "    print(f'Threshold: {threshold}, TPR: {TPR}, FPR: {FPR}, Accuracy: {str(accuracy)[:7]}')\n",
    "\n",
    "# plotting ROC curve now\n",
    "import matplotlib.pyplot as plt\n",
    "plt.plot(FPRvalues, TPRvalues)\n",
    "plt.xlabel('FPR')\n",
    "plt.ylabel('TPR')\n",
    "plt.title('TPR against FPR (ROC Curve)')\n",
    "plt.show()\n",
    "    \n",
    "# # the portion below about coefficients are not relevant to randomforestclassifiers\n",
    "# # seeing which features were most influential during model training by looking at variables coefficients\n",
    "# coefficients = model.coef_\n",
    "# coefficients = coefficients.flatten()\n",
    "# feat_impt = pd.DataFrame(abs(coefficients), index=columnnames, columns=[\"abs coefficient\"])\n",
    "# feat_impt = feat_impt.sort_values(by='abs coefficient', ascending=False)\n",
    "# print(feat_impt.head(60))"
   ]
  },
  {
   "cell_type": "markdown",
   "id": "bd20d838",
   "metadata": {
    "papermill": {
     "duration": 0.005105,
     "end_time": "2024-11-30T04:43:27.344000",
     "exception": false,
     "start_time": "2024-11-30T04:43:27.338895",
     "status": "completed"
    },
    "tags": []
   },
   "source": [
    "# Submission"
   ]
  },
  {
   "cell_type": "code",
   "execution_count": 7,
   "id": "20c67cfe",
   "metadata": {
    "execution": {
     "iopub.execute_input": "2024-11-30T04:43:27.355874Z",
     "iopub.status.busy": "2024-11-30T04:43:27.355361Z",
     "iopub.status.idle": "2024-11-30T04:43:30.082048Z",
     "shell.execute_reply": "2024-11-30T04:43:30.080810Z"
    },
    "papermill": {
     "duration": 2.735298,
     "end_time": "2024-11-30T04:43:30.084378",
     "exception": false,
     "start_time": "2024-11-30T04:43:27.349080",
     "status": "completed"
    },
    "tags": []
   },
   "outputs": [
    {
     "name": "stdout",
     "output_type": "stream",
     "text": [
      "100\n",
      "           id  Depression\n",
      "0      140700         0.0\n",
      "1      140701         0.0\n",
      "2      140702         0.0\n",
      "3      140703         1.0\n",
      "4      140704         0.0\n",
      "...       ...         ...\n",
      "93795  234495         0.0\n",
      "93796  234496         1.0\n",
      "93797  234497         0.0\n",
      "93798  234498         1.0\n",
      "93799  234499         0.0\n",
      "\n",
      "[93800 rows x 2 columns]\n",
      "success yahuu\n"
     ]
    }
   ],
   "source": [
    "model.fit(X, y)\n",
    "test_data = test_data.drop('Depression', axis=1)\n",
    "print(len(test_data.columns))\n",
    "test_data = scaler.fit_transform(test_data)\n",
    "pred = model.predict(test_data)\n",
    "\n",
    "# creating submission Dataframe\n",
    "output = pd.DataFrame({'id': Id_Series, 'Depression': pred})\n",
    "print(output)\n",
    "output.to_csv('submission.csv', index=False)\n",
    "print('success yahuu')"
   ]
  }
 ],
 "metadata": {
  "kaggle": {
   "accelerator": "none",
   "dataSources": [
    {
     "databundleVersionId": 10008389,
     "sourceId": 84895,
     "sourceType": "competition"
    }
   ],
   "dockerImageVersionId": 30786,
   "isGpuEnabled": false,
   "isInternetEnabled": true,
   "language": "python",
   "sourceType": "notebook"
  },
  "kernelspec": {
   "display_name": "Python 3",
   "language": "python",
   "name": "python3"
  },
  "language_info": {
   "codemirror_mode": {
    "name": "ipython",
    "version": 3
   },
   "file_extension": ".py",
   "mimetype": "text/x-python",
   "name": "python",
   "nbconvert_exporter": "python",
   "pygments_lexer": "ipython3",
   "version": "3.10.14"
  },
  "papermill": {
   "default_parameters": {},
   "duration": 20.186557,
   "end_time": "2024-11-30T04:43:30.710662",
   "environment_variables": {},
   "exception": null,
   "input_path": "__notebook__.ipynb",
   "output_path": "__notebook__.ipynb",
   "parameters": {},
   "start_time": "2024-11-30T04:43:10.524105",
   "version": "2.6.0"
  }
 },
 "nbformat": 4,
 "nbformat_minor": 5
}
