{
 "cells": [
  {
   "cell_type": "code",
   "execution_count": 1,
   "id": "65fd5e01",
   "metadata": {
    "_cell_guid": "b1076dfc-b9ad-4769-8c92-a6c4dae69d19",
    "_uuid": "8f2839f25d086af736a60e9eeb907d3b93b6e0e5",
    "execution": {
     "iopub.execute_input": "2024-11-17T07:42:11.677898Z",
     "iopub.status.busy": "2024-11-17T07:42:11.677464Z",
     "iopub.status.idle": "2024-11-17T07:42:12.508288Z",
     "shell.execute_reply": "2024-11-17T07:42:12.507219Z"
    },
    "papermill": {
     "duration": 0.837533,
     "end_time": "2024-11-17T07:42:12.510892",
     "exception": false,
     "start_time": "2024-11-17T07:42:11.673359",
     "status": "completed"
    },
    "tags": []
   },
   "outputs": [
    {
     "name": "stdout",
     "output_type": "stream",
     "text": [
      "/kaggle/input/playground-series-s4e11/sample_submission.csv\n",
      "/kaggle/input/playground-series-s4e11/train.csv\n",
      "/kaggle/input/playground-series-s4e11/test.csv\n"
     ]
    }
   ],
   "source": [
    "# This Python 3 environment comes with many helpful analytics libraries installed\n",
    "# It is defined by the kaggle/python Docker image: https://github.com/kaggle/docker-python\n",
    "# For example, here's several helpful packages to load\n",
    "\n",
    "import numpy as np # linear algebra\n",
    "import pandas as pd # data processing, CSV file I/O (e.g. pd.read_csv)\n",
    "\n",
    "# Input data files are available in the read-only \"../input/\" directory\n",
    "# For example, running this (by clicking run or pressing Shift+Enter) will list all files under the input directory\n",
    "\n",
    "import os\n",
    "for dirname, _, filenames in os.walk('/kaggle/input'):\n",
    "    for filename in filenames:\n",
    "        print(os.path.join(dirname, filename))\n",
    "\n",
    "# You can write up to 20GB to the current directory (/kaggle/working/) that gets preserved as output when you create a version using \"Save & Run All\" \n",
    "# You can also write temporary files to /kaggle/temp/, but they won't be saved outside of the current session"
   ]
  },
  {
   "cell_type": "markdown",
   "id": "060fbaec",
   "metadata": {
    "papermill": {
     "duration": 0.00179,
     "end_time": "2024-11-17T07:42:12.515171",
     "exception": false,
     "start_time": "2024-11-17T07:42:12.513381",
     "status": "completed"
    },
    "tags": []
   },
   "source": [
    "# configuring training data"
   ]
  },
  {
   "cell_type": "code",
   "execution_count": 2,
   "id": "810a7ee7",
   "metadata": {
    "execution": {
     "iopub.execute_input": "2024-11-17T07:42:12.520606Z",
     "iopub.status.busy": "2024-11-17T07:42:12.520101Z",
     "iopub.status.idle": "2024-11-17T07:42:13.113082Z",
     "shell.execute_reply": "2024-11-17T07:42:13.111896Z"
    },
    "papermill": {
     "duration": 0.598335,
     "end_time": "2024-11-17T07:42:13.115402",
     "exception": false,
     "start_time": "2024-11-17T07:42:12.517067",
     "status": "completed"
    },
    "tags": []
   },
   "outputs": [
    {
     "name": "stdout",
     "output_type": "stream",
     "text": [
      "Empty DataFrame\n",
      "Columns: [Gender, Age, City, Working Professional or Student, Profession, Academic Pressure, Work Pressure, CGPA, Study Satisfaction, Job Satisfaction, Sleep Duration, Dietary Habits, Degree, Have you ever had suicidal thoughts ?, Work/Study Hours, Financial Stress, Family History of Mental Illness, Depression]\n",
      "Index: []\n"
     ]
    }
   ],
   "source": [
    "train_data = pd.read_csv(\"/kaggle/input/playground-series-s4e11/train.csv\")\n",
    "# first imma get rid of the columns that obviously have no relation to whether one has depression or not\n",
    "# removing columns 'id' and 'Name'\n",
    "train_data.drop(['id', 'Name'], axis=1, inplace=True)\n",
    "# dealing with NaNs in column: Profession\n",
    "train_data['Profession'] = train_data['Profession'].fillna(train_data['Working Professional or Student'])\n",
    "print(train_data[train_data['Profession'].isna()])"
   ]
  },
  {
   "cell_type": "code",
   "execution_count": null,
   "id": "2e25197f",
   "metadata": {
    "papermill": {
     "duration": 0.001897,
     "end_time": "2024-11-17T07:42:13.119720",
     "exception": false,
     "start_time": "2024-11-17T07:42:13.117823",
     "status": "completed"
    },
    "tags": []
   },
   "outputs": [],
   "source": []
  }
 ],
 "metadata": {
  "kaggle": {
   "accelerator": "none",
   "dataSources": [
    {
     "databundleVersionId": 10008389,
     "sourceId": 84895,
     "sourceType": "competition"
    }
   ],
   "dockerImageVersionId": 30786,
   "isGpuEnabled": false,
   "isInternetEnabled": true,
   "language": "python",
   "sourceType": "notebook"
  },
  "kernelspec": {
   "display_name": "Python 3",
   "language": "python",
   "name": "python3"
  },
  "language_info": {
   "codemirror_mode": {
    "name": "ipython",
    "version": 3
   },
   "file_extension": ".py",
   "mimetype": "text/x-python",
   "name": "python",
   "nbconvert_exporter": "python",
   "pygments_lexer": "ipython3",
   "version": "3.10.14"
  },
  "papermill": {
   "default_parameters": {},
   "duration": 4.537642,
   "end_time": "2024-11-17T07:42:13.542432",
   "environment_variables": {},
   "exception": null,
   "input_path": "__notebook__.ipynb",
   "output_path": "__notebook__.ipynb",
   "parameters": {},
   "start_time": "2024-11-17T07:42:09.004790",
   "version": "2.6.0"
  }
 },
 "nbformat": 4,
 "nbformat_minor": 5
}
