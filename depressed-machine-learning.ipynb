{
 "cells": [
  {
   "cell_type": "code",
   "execution_count": 1,
   "id": "4b9a46c9",
   "metadata": {
    "_cell_guid": "b1076dfc-b9ad-4769-8c92-a6c4dae69d19",
    "_uuid": "8f2839f25d086af736a60e9eeb907d3b93b6e0e5",
    "execution": {
     "iopub.execute_input": "2024-11-17T06:54:44.248636Z",
     "iopub.status.busy": "2024-11-17T06:54:44.248200Z",
     "iopub.status.idle": "2024-11-17T06:54:45.172376Z",
     "shell.execute_reply": "2024-11-17T06:54:45.170967Z"
    },
    "papermill": {
     "duration": 0.931385,
     "end_time": "2024-11-17T06:54:45.175423",
     "exception": false,
     "start_time": "2024-11-17T06:54:44.244038",
     "status": "completed"
    },
    "tags": []
   },
   "outputs": [
    {
     "name": "stdout",
     "output_type": "stream",
     "text": [
      "/kaggle/input/playground-series-s4e11/sample_submission.csv\n",
      "/kaggle/input/playground-series-s4e11/train.csv\n",
      "/kaggle/input/playground-series-s4e11/test.csv\n"
     ]
    }
   ],
   "source": [
    "# This Python 3 environment comes with many helpful analytics libraries installed\n",
    "# It is defined by the kaggle/python Docker image: https://github.com/kaggle/docker-python\n",
    "# For example, here's several helpful packages to load\n",
    "\n",
    "import numpy as np # linear algebra\n",
    "import pandas as pd # data processing, CSV file I/O (e.g. pd.read_csv)\n",
    "\n",
    "# Input data files are available in the read-only \"../input/\" directory\n",
    "# For example, running this (by clicking run or pressing Shift+Enter) will list all files under the input directory\n",
    "\n",
    "import os\n",
    "for dirname, _, filenames in os.walk('/kaggle/input'):\n",
    "    for filename in filenames:\n",
    "        print(os.path.join(dirname, filename))\n",
    "\n",
    "# You can write up to 20GB to the current directory (/kaggle/working/) that gets preserved as output when you create a version using \"Save & Run All\" \n",
    "# You can also write temporary files to /kaggle/temp/, but they won't be saved outside of the current session"
   ]
  },
  {
   "cell_type": "markdown",
   "id": "baf0d40e",
   "metadata": {
    "papermill": {
     "duration": 0.001922,
     "end_time": "2024-11-17T06:54:45.180447",
     "exception": false,
     "start_time": "2024-11-17T06:54:45.178525",
     "status": "completed"
    },
    "tags": []
   },
   "source": [
    "# configuring training data"
   ]
  },
  {
   "cell_type": "code",
   "execution_count": 2,
   "id": "623c413c",
   "metadata": {
    "execution": {
     "iopub.execute_input": "2024-11-17T06:54:45.187114Z",
     "iopub.status.busy": "2024-11-17T06:54:45.185798Z",
     "iopub.status.idle": "2024-11-17T06:54:45.887608Z",
     "shell.execute_reply": "2024-11-17T06:54:45.886559Z"
    },
    "papermill": {
     "duration": 0.707578,
     "end_time": "2024-11-17T06:54:45.890075",
     "exception": false,
     "start_time": "2024-11-17T06:54:45.182497",
     "status": "completed"
    },
    "tags": []
   },
   "outputs": [
    {
     "name": "stdout",
     "output_type": "stream",
     "text": [
      "Profession            True\n",
      "Academic Pressure     True\n",
      "Work Pressure         True\n",
      "CGPA                  True\n",
      "Study Satisfaction    True\n",
      "Job Satisfaction      True\n",
      "Dietary Habits        True\n",
      "Degree                True\n",
      "Financial Stress      True\n",
      "dtype: bool\n"
     ]
    }
   ],
   "source": [
    "train_data = pd.read_csv(\"/kaggle/input/playground-series-s4e11/train.csv\")\n",
    "# first imma get rid of the columns that obviously have no relation to whether one has depression or not\n",
    "# removing columns 'id' and 'Name'\n",
    "train_data.drop(['id', 'Name'], axis=1, inplace=True)\n",
    "# checking for NaN values\n",
    "NaN_cols = train_data.isna().any()\n",
    "print(NaN_cols[NaN_cols])\n"
   ]
  },
  {
   "cell_type": "code",
   "execution_count": null,
   "id": "0a19c261",
   "metadata": {
    "papermill": {
     "duration": 0.001826,
     "end_time": "2024-11-17T06:54:45.894163",
     "exception": false,
     "start_time": "2024-11-17T06:54:45.892337",
     "status": "completed"
    },
    "tags": []
   },
   "outputs": [],
   "source": []
  }
 ],
 "metadata": {
  "kaggle": {
   "accelerator": "none",
   "dataSources": [
    {
     "databundleVersionId": 10008389,
     "sourceId": 84895,
     "sourceType": "competition"
    }
   ],
   "dockerImageVersionId": 30786,
   "isGpuEnabled": false,
   "isInternetEnabled": true,
   "language": "python",
   "sourceType": "notebook"
  },
  "kernelspec": {
   "display_name": "Python 3",
   "language": "python",
   "name": "python3"
  },
  "language_info": {
   "codemirror_mode": {
    "name": "ipython",
    "version": 3
   },
   "file_extension": ".py",
   "mimetype": "text/x-python",
   "name": "python",
   "nbconvert_exporter": "python",
   "pygments_lexer": "ipython3",
   "version": "3.10.14"
  },
  "papermill": {
   "default_parameters": {},
   "duration": 4.952883,
   "end_time": "2024-11-17T06:54:46.416952",
   "environment_variables": {},
   "exception": null,
   "input_path": "__notebook__.ipynb",
   "output_path": "__notebook__.ipynb",
   "parameters": {},
   "start_time": "2024-11-17T06:54:41.464069",
   "version": "2.6.0"
  }
 },
 "nbformat": 4,
 "nbformat_minor": 5
}
