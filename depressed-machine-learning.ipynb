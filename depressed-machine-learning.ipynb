{
 "cells": [
  {
   "cell_type": "code",
   "execution_count": 1,
   "id": "3a17da7e",
   "metadata": {
    "_cell_guid": "b1076dfc-b9ad-4769-8c92-a6c4dae69d19",
    "_uuid": "8f2839f25d086af736a60e9eeb907d3b93b6e0e5",
    "execution": {
     "iopub.execute_input": "2024-11-22T07:13:37.555227Z",
     "iopub.status.busy": "2024-11-22T07:13:37.554181Z",
     "iopub.status.idle": "2024-11-22T07:13:38.423211Z",
     "shell.execute_reply": "2024-11-22T07:13:38.421830Z"
    },
    "papermill": {
     "duration": 0.876361,
     "end_time": "2024-11-22T07:13:38.425741",
     "exception": false,
     "start_time": "2024-11-22T07:13:37.549380",
     "status": "completed"
    },
    "tags": []
   },
   "outputs": [
    {
     "name": "stdout",
     "output_type": "stream",
     "text": [
      "/kaggle/input/playground-series-s4e11/sample_submission.csv\n",
      "/kaggle/input/playground-series-s4e11/train.csv\n",
      "/kaggle/input/playground-series-s4e11/test.csv\n"
     ]
    }
   ],
   "source": [
    "# This Python 3 environment comes with many helpful analytics libraries installed\n",
    "# It is defined by the kaggle/python Docker image: https://github.com/kaggle/docker-python\n",
    "# For example, here's several helpful packages to load\n",
    "\n",
    "import numpy as np # linear algebra\n",
    "import pandas as pd # data processing, CSV file I/O (e.g. pd.read_csv)\n",
    "\n",
    "# Input data files are available in the read-only \"../input/\" directory\n",
    "# For example, running this (by clicking run or pressing Shift+Enter) will list all files under the input directory\n",
    "\n",
    "import os\n",
    "for dirname, _, filenames in os.walk('/kaggle/input'):\n",
    "    for filename in filenames:\n",
    "        print(os.path.join(dirname, filename))\n",
    "\n",
    "# You can write up to 20GB to the current directory (/kaggle/working/) that gets preserved as output when you create a version using \"Save & Run All\" \n",
    "# You can also write temporary files to /kaggle/temp/, but they won't be saved outside of the current session"
   ]
  },
  {
   "cell_type": "markdown",
   "id": "77e50f41",
   "metadata": {
    "papermill": {
     "duration": 0.001952,
     "end_time": "2024-11-22T07:13:38.430499",
     "exception": false,
     "start_time": "2024-11-22T07:13:38.428547",
     "status": "completed"
    },
    "tags": []
   },
   "source": [
    "# configuring training data"
   ]
  },
  {
   "cell_type": "code",
   "execution_count": 2,
   "id": "a00a5603",
   "metadata": {
    "execution": {
     "iopub.execute_input": "2024-11-22T07:13:38.437084Z",
     "iopub.status.busy": "2024-11-22T07:13:38.436020Z",
     "iopub.status.idle": "2024-11-22T07:13:39.163218Z",
     "shell.execute_reply": "2024-11-22T07:13:39.161807Z"
    },
    "papermill": {
     "duration": 0.733453,
     "end_time": "2024-11-22T07:13:39.165903",
     "exception": false,
     "start_time": "2024-11-22T07:13:38.432450",
     "status": "completed"
    },
    "tags": []
   },
   "outputs": [
    {
     "name": "stdout",
     "output_type": "stream",
     "text": [
      "7.77\n",
      "fillNaN complete\n"
     ]
    }
   ],
   "source": [
    "train_data = pd.read_csv(\"/kaggle/input/playground-series-s4e11/train.csv\")\n",
    "# first imma get rid of the columns that obviously have no relation to whether one has depression or not\n",
    "# removing columns 'id' and 'Name'\n",
    "train_data.drop(['id', 'Name'], axis=1, inplace=True)\n",
    "\n",
    "# function to check for NaN values in a column\n",
    "def checknan(colname):\n",
    "    print(train_data[train_data[colname].isna()])\n",
    "\n",
    "# function to fillna with either mean, median, 0, or another column\n",
    "def fillNaN(colnamelist, type, othercol=None):\n",
    "    if type == 'mean':\n",
    "        for colname in colnamelist:\n",
    "            train_data.fillna({colname: train_data[colname].mean()}, inplace = True)\n",
    "    elif type == 'median':\n",
    "        for colname in colnamelist:\n",
    "            train_data.fillna({colname: train_data[colname].median()}, inplace = True)\n",
    "    elif type == 0:\n",
    "        for colname in colnamelist:\n",
    "            train_data.fillna({colname: 0}, inplace = True)\n",
    "    elif type == 'othercol':\n",
    "        for colname in colnamelist:\n",
    "            train_data.fillna({colname: train_data[othercol]}, inplace = True)\n",
    "    print('fillNaN complete')\n",
    "        \n",
    "# dealing with NaNs in column: Profession\n",
    "train_data['Profession'] = train_data['Profession'].fillna(train_data['Working Professional or Student'])\n",
    "\n",
    "# dealing with NaNs in columns: Academic Pressure & Work Pressure\n",
    "train_data['Work Pressure'] = train_data['Work Pressure'].fillna(train_data['Academic Pressure'])\n",
    "train_data['Pressure'] = train_data['Work Pressure']\n",
    "train_data.drop(['Work Pressure', 'Academic Pressure'], axis=1, inplace=True)\n",
    "train_data.fillna({'Pressure': 0}, inplace=True)\n",
    "\n",
    "# dealing with NaNs in column: CGPA\n",
    "print(train_data['CGPA'].median())\n",
    "train_data['CGPA'] = train_data['CGPA'].fillna(train_data['CGPA'].median())\n",
    "\n",
    "# dealing with NaNs in columns: Study Satisfaction and Job Satisfaction\n",
    "train_data['Job Satisfaction'] = train_data['Job Satisfaction'].fillna(train_data['Study Satisfaction'])\n",
    "train_data.fillna({'Job Satisfaction': train_data['Job Satisfaction'].mean()}, inplace=True)\n",
    "train_data['Career Satisfaction'] = train_data['Job Satisfaction']\n",
    "train_data.drop(['Job Satisfaction', 'Study Satisfaction'], axis=1, inplace=True)\n",
    "\n",
    "# Dietary Habits and Degree columns\n",
    "train_data.fillna({'Degree': 'Unknown Degree', 'Dietary Habits': 'Moderate'}, inplace=True)\n",
    "\n",
    "# Financial Stress\n",
    "fillNaN(['Financial Stress'], 'mean')\n",
    "\n",
    "traincities = train_data['City'].unique()\n"
   ]
  },
  {
   "cell_type": "markdown",
   "id": "f6fa5082",
   "metadata": {
    "papermill": {
     "duration": 0.002079,
     "end_time": "2024-11-22T07:13:39.170515",
     "exception": false,
     "start_time": "2024-11-22T07:13:39.168436",
     "status": "completed"
    },
    "tags": []
   },
   "source": [
    "# configuring test data"
   ]
  },
  {
   "cell_type": "code",
   "execution_count": 3,
   "id": "e48e564c",
   "metadata": {
    "execution": {
     "iopub.execute_input": "2024-11-22T07:13:39.177277Z",
     "iopub.status.busy": "2024-11-22T07:13:39.176228Z",
     "iopub.status.idle": "2024-11-22T07:13:39.657291Z",
     "shell.execute_reply": "2024-11-22T07:13:39.655986Z"
    },
    "papermill": {
     "duration": 0.487379,
     "end_time": "2024-11-22T07:13:39.659931",
     "exception": false,
     "start_time": "2024-11-22T07:13:39.172552",
     "status": "completed"
    },
    "tags": []
   },
   "outputs": [
    {
     "name": "stdout",
     "output_type": "stream",
     "text": [
      "7.8\n",
      "fillNaN complete\n",
      "{'Nagpur', 'Ghaziabad', 'Vidya', 'Hrithik', 'Varanasi', 'Chennai', 'Kanpur', 'Kalyan', 'Agra', 'Delhi', 'Bhopal', 'Mumbai', 'Leela', 'City', 'Visakhapatnam', 'Ghopal', 'Pratyush', 'Saurav', 'Ludhiana', 'Vaikot', 'Pratham', 'Patna', 'Pune', 'Less than 5 hours', 'Abhinav', 'Bhavna', 'Indore', 'Sara', 'Malyan', 'More Delhi', 'Less Delhi', 'Ahmedabad', 'Saanvi', 'Lawyer', 'Meerut', 'Nashik', 'Vikram', 'Rajkot', 'Jaipur', 'Aditi', 'Is Kanpur', 'Mhopal', 'Avni', 'Keshav', 'Vaishnavi', 'Parth', 'Vadodara', 'Bangalore', 'Vasai-Virar', 'Nalini', 'Rolkata', 'Faridabad', 'Golkata', 'Lucknow', 'Chemist', 'Hyderabad', 'No.12', 'Unaly', 'Vidhi', 'Srinagar', 'No', 'San Vasai-Virar', 'Ira', 'Kolkata', 'Siddhesh', 'Thane', 'Thani', 'Surat'}\n",
      "68\n",
      "{'Nagpur', 'Ghaziabad', 'Varanasi', 'Ithal', 'Jhanvi', 'Moreadhyay', 'Bhopal', 'City', 'Kagan', 'Nandini', 'ME', 'Aaradhya', 'Saanvi', 'Jaipur', 'Vaanya', 'Vasai-Virar', 'Researcher', 'Nalyan', 'Mahi', 'Krishna', 'Mira', 'Unirar', 'Gurgaon', 'Anvi', 'Ayush', 'Khushi', 'Less Delhi', 'Itheg', 'Vidya', 'Chennai', 'Kanpur', 'Dhruv', 'Kalyan', 'Less than 5 Kalyan', 'Morena', 'MSc', 'Pratyush', 'Krinda', 'Ludhiana', 'Harsha', 'Ahmedabad', 'Galesabad', 'Shrey', 'Aishwarya', 'Molkata', 'Ishanabad', 'Vadodara', 'Nalini', 'Faridabad', 'Kashk', 'Hyderabad', 'Kashish', 'Atharv', 'MCA', 'Chhavi', 'Kolkata', 'M.Tech', 'Tolkata', 'Khaziabad', 'Rashi', 'Visakhapatnam', 'Patna', 'Pune', 'Bhavna', 'Indore', '3.0', 'Harsh', 'Gaurav', 'Meerut', 'M.Com', 'Rajkot', 'Bangalore', 'Srinagar', 'No', 'Surat', 'Raghavendra', 'Ayansh', 'Malyansh', 'Ishkarsh', 'Mihir', 'Agra', 'Delhi', 'Mumbai', 'Pooja', 'Tushar', 'Plata', 'Ivaan', 'Kibara', 'Parth', 'Vaishnavi', 'Keshav', 'Aditya', 'Lucknow', 'Armaan', 'Reyansh', 'Vidhi', 'Thane', 'Nashik'}\n",
      "98\n"
     ]
    }
   ],
   "source": [
    "test_data = pd.read_csv(\"/kaggle/input/playground-series-s4e11/test.csv\")\n",
    "# can only get rid of the 'Name' column as the id column is needed for submission\n",
    "test_data.drop(['Name'], axis=1, inplace=True)\n",
    "\n",
    "# function to check for NaN values in a column\n",
    "def checknan(colname):\n",
    "    print(test_data[test_data[colname].isna()])\n",
    "\n",
    "# function to fillna with either mean, median, 0, or another column\n",
    "def fillNaN(colnamelist, type, othercol=None):\n",
    "    if type == 'mean':\n",
    "        for colname in colnamelist:\n",
    "            test_data.fillna({colname: train_data[colname].mean()}, inplace = True) # fillna with training data mean\n",
    "    elif type == 'median':\n",
    "        for colname in colnamelist:\n",
    "            test_data.fillna({colname: train_data[colname].median()}, inplace = True) # fillna with training data median\n",
    "    elif type == 0:\n",
    "        for colname in colnamelist:\n",
    "            test_data.fillna({colname: 0}, inplace = True)\n",
    "    elif type == 'othercol':\n",
    "        for colname in colnamelist:\n",
    "            test_data.fillna({colname: test_data[othercol]}, inplace = True)\n",
    "    print('fillNaN complete')\n",
    "        \n",
    "# dealing with NaNs in column: Profession\n",
    "test_data['Profession'] = test_data['Profession'].fillna(test_data['Working Professional or Student'])\n",
    "\n",
    "# dealing with NaNs in columns: Academic Pressure & Work Pressure\n",
    "test_data['Work Pressure'] = test_data['Work Pressure'].fillna(test_data['Academic Pressure'])\n",
    "test_data['Pressure'] = test_data['Work Pressure']\n",
    "test_data.drop(['Work Pressure', 'Academic Pressure'], axis=1, inplace=True)\n",
    "test_data.fillna({'Pressure': 0}, inplace=True)\n",
    "\n",
    "# dealing with NaNs in column: CGPA\n",
    "print(test_data['CGPA'].median())\n",
    "test_data['CGPA'] = test_data['CGPA'].fillna(train_data['CGPA'].median())\n",
    "\n",
    "# dealing with NaNs in columns: Study Satisfaction and Job Satisfaction\n",
    "test_data['Job Satisfaction'] = test_data['Job Satisfaction'].fillna(test_data['Study Satisfaction'])\n",
    "test_data.fillna({'Job Satisfaction': train_data['Career Satisfaction'].mean()}, inplace=True)\n",
    "test_data['Career Satisfaction'] = test_data['Job Satisfaction']\n",
    "test_data.drop(['Job Satisfaction', 'Study Satisfaction'], axis=1, inplace=True)\n",
    "\n",
    "# Dietary Habits and Degree columns\n",
    "test_data.fillna({'Degree': 'Unknown Degree', 'Dietary Habits': 'Moderate'}, inplace=True)\n",
    "\n",
    "# Financial Stress\n",
    "fillNaN(['Financial Stress'], 'mean')\n",
    "testcities = test_data['City'].unique()\n",
    "\n",
    "# checking if the cities in the train data and test data are the same\n",
    "print(set(testcities))\n",
    "print(len(testcities)) #68 cities in the testing data\n",
    "\n",
    "print(set(traincities))\n",
    "print(len(traincities)) #98 cities in the training data"
   ]
  }
 ],
 "metadata": {
  "kaggle": {
   "accelerator": "none",
   "dataSources": [
    {
     "databundleVersionId": 10008389,
     "sourceId": 84895,
     "sourceType": "competition"
    }
   ],
   "dockerImageVersionId": 30786,
   "isGpuEnabled": false,
   "isInternetEnabled": true,
   "language": "python",
   "sourceType": "notebook"
  },
  "kernelspec": {
   "display_name": "Python 3",
   "language": "python",
   "name": "python3"
  },
  "language_info": {
   "codemirror_mode": {
    "name": "ipython",
    "version": 3
   },
   "file_extension": ".py",
   "mimetype": "text/x-python",
   "name": "python",
   "nbconvert_exporter": "python",
   "pygments_lexer": "ipython3",
   "version": "3.10.14"
  },
  "papermill": {
   "default_parameters": {},
   "duration": 8.505078,
   "end_time": "2024-11-22T07:13:43.240673",
   "environment_variables": {},
   "exception": null,
   "input_path": "__notebook__.ipynb",
   "output_path": "__notebook__.ipynb",
   "parameters": {},
   "start_time": "2024-11-22T07:13:34.735595",
   "version": "2.6.0"
  }
 },
 "nbformat": 4,
 "nbformat_minor": 5
}
