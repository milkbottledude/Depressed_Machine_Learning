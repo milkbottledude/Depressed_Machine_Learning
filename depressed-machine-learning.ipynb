{
 "cells": [
  {
   "cell_type": "code",
   "execution_count": 1,
   "id": "042537b6",
   "metadata": {
    "_cell_guid": "b1076dfc-b9ad-4769-8c92-a6c4dae69d19",
    "_uuid": "8f2839f25d086af736a60e9eeb907d3b93b6e0e5",
    "execution": {
     "iopub.execute_input": "2024-11-25T11:40:29.348164Z",
     "iopub.status.busy": "2024-11-25T11:40:29.347669Z",
     "iopub.status.idle": "2024-11-25T11:40:30.329935Z",
     "shell.execute_reply": "2024-11-25T11:40:30.328567Z"
    },
    "papermill": {
     "duration": 0.991626,
     "end_time": "2024-11-25T11:40:30.332740",
     "exception": false,
     "start_time": "2024-11-25T11:40:29.341114",
     "status": "completed"
    },
    "tags": []
   },
   "outputs": [
    {
     "name": "stdout",
     "output_type": "stream",
     "text": [
      "/kaggle/input/playground-series-s4e11/sample_submission.csv\n",
      "/kaggle/input/playground-series-s4e11/train.csv\n",
      "/kaggle/input/playground-series-s4e11/test.csv\n"
     ]
    }
   ],
   "source": [
    "# This Python 3 environment comes with many helpful analytics libraries installed\n",
    "# It is defined by the kaggle/python Docker image: https://github.com/kaggle/docker-python\n",
    "# For example, here's several helpful packages to load\n",
    "\n",
    "import numpy as np # linear algebra\n",
    "import pandas as pd # data processing, CSV file I/O (e.g. pd.read_csv)\n",
    "\n",
    "# Input data files are available in the read-only \"../input/\" directory\n",
    "# For example, running this (by clicking run or pressing Shift+Enter) will list all files under the input directory\n",
    "\n",
    "import os\n",
    "for dirname, _, filenames in os.walk('/kaggle/input'):\n",
    "    for filename in filenames:\n",
    "        print(os.path.join(dirname, filename))\n",
    "\n",
    "# You can write up to 20GB to the current directory (/kaggle/working/) that gets preserved as output when you create a version using \"Save & Run All\" \n",
    "# You can also write temporary files to /kaggle/temp/, but they won't be saved outside of the current session"
   ]
  },
  {
   "cell_type": "markdown",
   "id": "ea7233f3",
   "metadata": {
    "papermill": {
     "duration": 0.003304,
     "end_time": "2024-11-25T11:40:30.340104",
     "exception": false,
     "start_time": "2024-11-25T11:40:30.336800",
     "status": "completed"
    },
    "tags": []
   },
   "source": [
    "# 1) Data Cleaning"
   ]
  },
  {
   "cell_type": "markdown",
   "id": "808f282e",
   "metadata": {
    "papermill": {
     "duration": 0.003409,
     "end_time": "2024-11-25T11:40:30.347165",
     "exception": false,
     "start_time": "2024-11-25T11:40:30.343756",
     "status": "completed"
    },
    "tags": []
   },
   "source": [
    "## configuring training data"
   ]
  },
  {
   "cell_type": "code",
   "execution_count": 2,
   "id": "cea82a9e",
   "metadata": {
    "execution": {
     "iopub.execute_input": "2024-11-25T11:40:30.356148Z",
     "iopub.status.busy": "2024-11-25T11:40:30.355588Z",
     "iopub.status.idle": "2024-11-25T11:40:31.329538Z",
     "shell.execute_reply": "2024-11-25T11:40:31.328402Z"
    },
    "papermill": {
     "duration": 0.981211,
     "end_time": "2024-11-25T11:40:31.331916",
     "exception": false,
     "start_time": "2024-11-25T11:40:30.350705",
     "status": "completed"
    },
    "tags": []
   },
   "outputs": [
    {
     "name": "stdout",
     "output_type": "stream",
     "text": [
      "3.027409919035535\n",
      "7.77\n",
      "fillNaN complete\n"
     ]
    }
   ],
   "source": [
    "train_data = pd.read_csv(\"/kaggle/input/playground-series-s4e11/train.csv\")\n",
    "# first imma get rid of the columns that obviously have no relation to whether one has depression or not\n",
    "# removing columns 'id' and 'Name'\n",
    "train_data = train_data.drop(['id', 'Name'], axis=1)\n",
    "\n",
    "# function to check for NaN values in a column\n",
    "def checknan(colname):\n",
    "    print(train_data[train_data[colname].isna()])\n",
    "\n",
    "# function to fillna with either mean, median, 0, or another column\n",
    "def fillNaN(colnamelist, type, othercol=None):\n",
    "    if type == 'mean':\n",
    "        for colname in colnamelist:\n",
    "            train_data.fillna({colname: train_data[colname].mean()}, inplace = True)\n",
    "    elif type == 'median':\n",
    "        for colname in colnamelist:\n",
    "            train_data.fillna({colname: train_data[colname].median()}, inplace = True)\n",
    "    elif type == 0:\n",
    "        for colname in colnamelist:\n",
    "            train_data.fillna({colname: 0}, inplace = True)\n",
    "    elif type == 'othercol':\n",
    "        for colname in colnamelist:\n",
    "            train_data.fillna({colname: train_data[othercol]}, inplace = True)\n",
    "    print('fillNaN complete')\n",
    "        \n",
    "# dealing with NaNs in column: Profession\n",
    "train_data['Profession'] = train_data['Profession'].fillna(train_data['Working Professional or Student'])\n",
    "\n",
    "# dealing with NaNs in columns: Academic Pressure & Work Pressure\n",
    "train_data['Work Pressure'] = train_data['Work Pressure'].fillna(train_data['Academic Pressure'])\n",
    "train_data['Pressure'] = train_data['Work Pressure']\n",
    "train_data.drop(['Work Pressure', 'Academic Pressure'], axis=1, inplace=True)\n",
    "mean_trainpressure = train_data['Pressure'].mean()\n",
    "print(mean_trainpressure)\n",
    "train_data.fillna({'Pressure': mean_trainpressure}, inplace=True)\n",
    "\n",
    "# dealing with NaNs in column: CGPA\n",
    "print(train_data['CGPA'].median())\n",
    "train_data['CGPA'] = train_data['CGPA'].fillna(train_data['CGPA'].median())\n",
    "\n",
    "# dealing with NaNs in columns: Study Satisfaction and Job Satisfaction\n",
    "train_data['Job Satisfaction'] = train_data['Job Satisfaction'].fillna(train_data['Study Satisfaction'])\n",
    "train_data.fillna({'Job Satisfaction': train_data['Job Satisfaction'].mean()}, inplace=True)\n",
    "train_data['Career Satisfaction'] = train_data['Job Satisfaction']\n",
    "train_data.drop(['Job Satisfaction', 'Study Satisfaction'], axis=1, inplace=True)\n",
    "\n",
    "# Dietary Habits and Degree columns\n",
    "train_data.fillna({'Degree': 'Unknown Degree', 'Dietary Habits': 'Moderate'}, inplace=True)\n",
    "\n",
    "# Financial Stress\n",
    "fillNaN(['Financial Stress'], 'mean')\n",
    "\n"
   ]
  },
  {
   "cell_type": "markdown",
   "id": "ff78521e",
   "metadata": {
    "papermill": {
     "duration": 0.00339,
     "end_time": "2024-11-25T11:40:31.339047",
     "exception": false,
     "start_time": "2024-11-25T11:40:31.335657",
     "status": "completed"
    },
    "tags": []
   },
   "source": [
    "## configuring test data"
   ]
  },
  {
   "cell_type": "code",
   "execution_count": 3,
   "id": "443729fe",
   "metadata": {
    "execution": {
     "iopub.execute_input": "2024-11-25T11:40:31.348491Z",
     "iopub.status.busy": "2024-11-25T11:40:31.347933Z",
     "iopub.status.idle": "2024-11-25T11:40:31.807392Z",
     "shell.execute_reply": "2024-11-25T11:40:31.806156Z"
    },
    "papermill": {
     "duration": 0.46707,
     "end_time": "2024-11-25T11:40:31.809828",
     "exception": false,
     "start_time": "2024-11-25T11:40:31.342758",
     "status": "completed"
    },
    "tags": []
   },
   "outputs": [
    {
     "name": "stdout",
     "output_type": "stream",
     "text": [
      "7.8\n",
      "fillNaN complete\n"
     ]
    }
   ],
   "source": [
    "test_data = pd.read_csv(\"/kaggle/input/playground-series-s4e11/test.csv\")\n",
    "# extracting the id column for submission later\n",
    "Id_Series = test_data['id']\n",
    "test_data.drop(['Name', 'id'], axis=1, inplace=True)\n",
    "\n",
    "# function to check for NaN values in a column\n",
    "def checknan(colname):\n",
    "    print(test_data[test_data[colname].isna()])\n",
    "\n",
    "# function to fillna with either mean, median, 0, or another column\n",
    "def fillNaN(colnamelist, type, othercol=None):\n",
    "    if type == 'mean':\n",
    "        for colname in colnamelist:\n",
    "            test_data.fillna({colname: train_data[colname].mean()}, inplace = True) # fillna with training data mean\n",
    "    elif type == 'median':\n",
    "        for colname in colnamelist:\n",
    "            test_data.fillna({colname: train_data[colname].median()}, inplace = True) # fillna with training data median\n",
    "    elif type == 0:\n",
    "        for colname in colnamelist:\n",
    "            test_data.fillna({colname: 0}, inplace = True)\n",
    "    elif type == 'othercol':\n",
    "        for colname in colnamelist:\n",
    "            test_data.fillna({colname: test_data[othercol]}, inplace = True)\n",
    "    print('fillNaN complete')\n",
    "        \n",
    "# dealing with NaNs in column: Profession\n",
    "test_data['Profession'] = test_data['Profession'].fillna(test_data['Working Professional or Student'])\n",
    "\n",
    "# dealing with NaNs in columns: Academic Pressure & Work Pressure\n",
    "test_data['Work Pressure'] = test_data['Work Pressure'].fillna(test_data['Academic Pressure'])\n",
    "test_data['Pressure'] = test_data['Work Pressure']\n",
    "test_data.drop(['Work Pressure', 'Academic Pressure'], axis=1, inplace=True)\n",
    "test_data.fillna({'Pressure': mean_trainpressure}, inplace=True)\n",
    "\n",
    "# dealing with NaNs in column: CGPA\n",
    "print(test_data['CGPA'].median())\n",
    "test_data['CGPA'] = test_data['CGPA'].fillna(train_data['CGPA'].median())\n",
    "\n",
    "# dealing with NaNs in columns: Study Satisfaction and Job Satisfaction\n",
    "test_data['Job Satisfaction'] = test_data['Job Satisfaction'].fillna(test_data['Study Satisfaction'])\n",
    "test_data.fillna({'Job Satisfaction': train_data['Career Satisfaction'].mean()}, inplace=True)\n",
    "test_data['Career Satisfaction'] = test_data['Job Satisfaction']\n",
    "test_data.drop(['Job Satisfaction', 'Study Satisfaction'], axis=1, inplace=True)\n",
    "\n",
    "# Dietary Habits and Degree columns\n",
    "test_data.fillna({'Degree': 'Unknown Degree', 'Dietary Habits': 'Moderate'}, inplace=True)\n",
    "\n",
    "# Financial Stress\n",
    "fillNaN(['Financial Stress'], 'mean')\n",
    "testcities = test_data['City'].unique()\n"
   ]
  },
  {
   "cell_type": "markdown",
   "id": "1bd26921",
   "metadata": {
    "papermill": {
     "duration": 0.003505,
     "end_time": "2024-11-25T11:40:31.817241",
     "exception": false,
     "start_time": "2024-11-25T11:40:31.813736",
     "status": "completed"
    },
    "tags": []
   },
   "source": [
    "checking all columns for values that are in one dataset but not in the other, as well as getting rid of nonsense data values"
   ]
  },
  {
   "cell_type": "code",
   "execution_count": 4,
   "id": "ad753846",
   "metadata": {
    "execution": {
     "iopub.execute_input": "2024-11-25T11:40:31.829456Z",
     "iopub.status.busy": "2024-11-25T11:40:31.828479Z",
     "iopub.status.idle": "2024-11-25T11:40:33.962884Z",
     "shell.execute_reply": "2024-11-25T11:40:33.961698Z"
    },
    "papermill": {
     "duration": 2.143379,
     "end_time": "2024-11-25T11:40:33.965411",
     "exception": false,
     "start_time": "2024-11-25T11:40:31.822032",
     "status": "completed"
    },
    "tags": []
   },
   "outputs": [],
   "source": [
    "# columns to fix: 'City', 'Profession', 'Degree'\n",
    "both_datasets = pd.concat([train_data, test_data], axis=0)\n",
    "# fixing weird profession names\n",
    "both_datasets['Profession'] = both_datasets['Profession'].replace({'Finanancial Analyst': 'Financial Analyst', 'B.Pharm': 'Pharmacist', 'M.Pharm': 'Pharmacist', 'Family Consultant': 'Consultant'})\n",
    "# replacing gibberish in the 'Profession' column with 'Unknown Profession'\n",
    "both_datasets['Profession'] = both_datasets['Profession'].replace(['Visakhapatnam', 'B.Ed', 'MCA', 'FamilyVirar', '24th', 'M.Ed', 'Working Professional', 'MBBS', 'BBA', 'B.Com', '3M', 'PhD', 'Pranav', 'Manvi', 'BE', 'Simran', 'No', 'Unveil', 'Patna', 'Name', 'LLM', 'Yogesh', 'MBA', 'Moderate', 'Profession', 'BCA', 'Samar', 'Unhealthy', 'ME', 'Yuvraj', 'Surat', 'Nagpur', 'Academic'], 'Unknown Profession')\n",
    "\n",
    "# Version 17: getting rid of nonsense degrees in the 'Degree' column\n",
    "both_datasets['Degree'] = both_datasets['Degree'].replace({'H_Pharm': 'B.Pharm', 'N_Pharm': 'M.Pharm', 'B._Pharm': 'B.Pharm', 'M.B.Ed': 'M.Ed', 'B.M.Com': 'M.Com', 'B BA': 'BBA', 'B B.Com': 'B.Com', 'BTech': 'B.Tech', 'B B.Tech': 'B.Tech', 'B.B.Arch': 'B.Arch', 'BPharm': 'B.Pharm', 'M.M.Ed': 'M.Ed', 'M. Business Analyst': 'MSBA', 'MTech': 'M.Tech', 'MEd': 'M.Ed', 'M_Tech': 'M.Tech', 'B Financial Analyst': 'BSBA', 'LLBA': 'BA', 'LL B.Ed': 'B.Ed', 'B BCA': 'BCA', 'BSc': 'BS'})\n",
    "both_datasets['Degree'] = both_datasets['Degree'].replace(['CGPA', 'Marsh', 'Vibha', 'LHM', 'PCA', '5.61', 'I.Ed', 'B.Study_Hours', 'Entrepreneur', 'Bhavesh', 'Working Professional', 'P.Com', 'Degree', 'Mahika', 'LLCom', '8.95', 'E.Ed', 'J.Ed', 'ME', 'LLM', '3.0', 'Badhya', 'Moham', 'Advait', '5.65', 'B._Pharm', 'M.B.Ed', 'RCA', 'Rupak', 'Vrinda', 'Kavya', 'UX/UI Designer', 'M', 'Travel Consultant', 'Veda', 'Mihir', 'Unite', 'Mthanya', 'B. Gender', 'L.Ed', 'Plumber', 'Unknown Degree', 'GCA', 'M.UI', 'Brit', 'Kalyan', 'G.Ed', 'LCA', 'LLTech', 'BH', 'HCA', 'A.Ed', 'S.Pharm', 'S.Tech', 'Vivaan', 'B.Student', 'M.', 'B.03', 'Business Analyst', 'Nalini', 'B.3.79', 'Aarav', 'Navya', 'K.Ed', 'Pihu', 'Banchal', 'B.H', 'Jhanvi', '8.56', 'BB', 'LLEd', 'Eshita', 'Bhopal', 'BHCA', 'Magan', '7.06', 'Aadhya', '5.88', 'Pune', '24', 'P.Pharm', 'Bian', 'Esha', 'LLS', '29', 'ACA', 'Brithika', 'Gagan', 'HR Manager', 'MHM', 'Mechanical Engineer', 'LL.Com', 'Doctor', '20', 'Lata', 'B', 'S.Arch', '0', 'Ritik', 'B.Press', 'E.Tech', '5.56'], 'Unknown Degree')\n",
    "\n",
    "# Version 17: getting rid of nonsense degrees in the 'City' column\n",
    "both_datasets['City'] = both_datasets['City'].replace(['Less Delhi', 'More Delhi'], 'Delhi') # im assuming these 2 values are typos for the city Delhi\n",
    "both_datasets['City'] = both_datasets['City'].replace(['Abhinav', 'Pooja', 'Unirar', 'Ayush', 'Lawyer', 'Armaan', 'Nalyan', 'Kagan', 'M.Com', 'Avni', 'Harsh', 'Mhopal', 'Kibara', 'Vaikot', 'ME', 'Kashish', 'Pratham', 'Molkata', 'Vaanya', 'Anvi', 'Ayansh', 'Khushi', 'Leela', 'Saanvi', 'Raghavendra', 'Harsha', 'Mihir', 'MSc', 'Moreadhyay', 'Vikram', 'Keshav', 'M.Tech', 'Chemist', 'Mahi', 'Kashk', 'Krinda', 'Malyan', 'Tushar', 'Saurav', 'San Vasai-Virar', 'Nandini', 'Mira', 'Krishna', 'Rolkata', 'Ivaan', 'Rashi', 'No', 'Siddhesh', 'Less than 5 Kalyan', 'Nalini', 'Aishwarya', 'Golkata', 'City', 'Vidya', 'Aaradhya', 'Ishanabad', 'Jhanvi', 'Khaziabad', 'Is Kanpur', 'No.12', 'Shrey', 'Aditya', 'Itheg', 'Bhavna', 'Atharv', 'Ghaziabad', 'Less than 5 hours', 'Parth', 'Ithal', 'Thani', 'Ghopal', 'Researcher', 'Vaishnavi', 'Chhavi', 'Malyansh', 'Galesabad', 'Hrithik', 'Reyansh', 'Tolkata', 'Ishkarsh', 'Dhruv', 'Pratyush', 'Sara', 'Vidhi', 'Aditi'], 'Unknown City')\n",
    "\n",
    "# getting train_data for the purpose of calculating the training data's mean sleep duration\n",
    "train_data = both_datasets.iloc[:len(train_data)].copy()"
   ]
  },
  {
   "cell_type": "markdown",
   "id": "850c0b23",
   "metadata": {
    "papermill": {
     "duration": 0.003961,
     "end_time": "2024-11-25T11:40:33.973773",
     "exception": false,
     "start_time": "2024-11-25T11:40:33.969812",
     "status": "completed"
    },
    "tags": []
   },
   "source": [
    "#### Tidying the columns 'Sleep Duration' and 'Dietary Habits' cuz some of their values r just stupid\n",
    "\n",
    "messy ahh dataset"
   ]
  },
  {
   "cell_type": "code",
   "execution_count": 5,
   "id": "65e28c87",
   "metadata": {
    "execution": {
     "iopub.execute_input": "2024-11-25T11:40:33.984359Z",
     "iopub.status.busy": "2024-11-25T11:40:33.983532Z",
     "iopub.status.idle": "2024-11-25T11:40:34.854443Z",
     "shell.execute_reply": "2024-11-25T11:40:34.853367Z"
    },
    "papermill": {
     "duration": 0.878833,
     "end_time": "2024-11-25T11:40:34.856909",
     "exception": false,
     "start_time": "2024-11-25T11:40:33.978076",
     "status": "completed"
    },
    "tags": []
   },
   "outputs": [
    {
     "name": "stdout",
     "output_type": "stream",
     "text": [
      "25567\n"
     ]
    },
    {
     "data": {
      "image/png": "[encoded data removed]",
      "text/plain": [
       "<Figure size 640x480 with 1 Axes>"
      ]
     },
     "metadata": {},
     "output_type": "display_data"
    },
    {
     "data": {
      "image/png": "[encoded data removed]",
      "text/plain": [
       "<Figure size 640x480 with 1 Axes>"
      ]
     },
     "metadata": {},
     "output_type": "display_data"
    }
   ],
   "source": [
    "import matplotlib.pyplot as pyplot\n",
    "\n",
    "honkshoo = {\n",
    "    '40-45 hours': 6,\n",
    "    'More than 8 hours': 9,\n",
    "    '1-3 hours': 2,\n",
    "    '9-11 hours': 10,\n",
    "    '9-6 hours': 7,\n",
    "    '8 hours': 8,\n",
    "    '35-36 hours': 5,\n",
    "    '1-2 hours': 1,\n",
    "    '10-6 hours': 8,\n",
    "    'than 5 hours': 5,\n",
    "    '1-6 hours': 4,\n",
    "    '8-9 hours': 9,\n",
    "    '9-5': 7,\n",
    "    '9-10 hours': 9,\n",
    "    '20-21 hours': 3,\n",
    "    '5-6 hours': 6,\n",
    "    '45-48 hours': 7,\n",
    "    '2-3 hours': 3,\n",
    "    '6-7 hours': 6,\n",
    "    '55-66 hours': 9,\n",
    "    '45': 6,\n",
    "    '7-8 hours': 7,\n",
    "    '10-11 hours': 10,\n",
    "    '4-6 hours': 5,\n",
    "    'Less than 5 hours': 3,\n",
    "    '4-5 hours': 4,\n",
    "    '1-2 hours': 1,\n",
    "    '6-8 hours': 7,\n",
    "    '8-89 hours': 12,\n",
    "    '49 hours': 7,\n",
    "    '3-6 hours': 4,\n",
    "    '60-65 hours': 9,\n",
    "    '6 hours': 6,\n",
    "    '9-5 hours': 7,\n",
    "    '50-75 hours': 9,\n",
    "    '3-4 hours': 3\n",
    "}\n",
    "# column values not in honkshoo: Moderate, Unhealthy, Have_you_ever_had_suicidal_thoughts, Work_Study_Hours, No, Meerut, 0, Vivan, Indore, Sleep_Duration, Pune\n",
    "\n",
    "train_data['Sleep Duration'] = train_data['Sleep Duration'].map(honkshoo)\n",
    "both_datasets['Sleep Duration'] = both_datasets['Sleep Duration'].map(honkshoo)\n",
    "\n",
    "# replacing NaN values in 'Sleep Duration' with the mean\n",
    "meansleep = train_data['Sleep Duration'].mean()\n",
    "both_datasets['Sleep Duration'] = both_datasets['Sleep Duration'].fillna(meansleep)\n",
    "\n",
    "# moving on to 'Dietary Habits' column\n",
    "dhabits = {\n",
    "    'Unhealthy': 1,\n",
    "    'Moderate': 2,\n",
    "    'Healthy': 3,\n",
    "    'No Healthy': 1,\n",
    "    'More Healthy': 3,\n",
    "    'Less than Healthy': 1,\n",
    "    'Less Healthy': 1\n",
    "}\n",
    "both_datasets['Dietary Habits'] = both_datasets['Dietary Habits'].map(dhabits)\n",
    "both_datasets['Dietary Habits'] = both_datasets['Dietary Habits'].fillna(2)\n",
    "\n",
    "# gonna experiment and drop certain columns to see if they would improve accuracy\n",
    "both_datasets = both_datasets.drop(['City'], axis=1)\n",
    "# getting dummies in both_datasets so that both train_data and test_data will have the same columns after splitting\n",
    "both_datasets = pd.get_dummies(both_datasets)\n",
    "\n",
    "#Version 22, feature engineering 'satisfaction_per_financialstress' Edit: realised this variable has a positive coefficient meaning as this value goes up, the greater the model thinks one has depression, which should not be the case so ill '#' the following line of code.\n",
    "# both_datasets['satisfaction_per_financialstress'] = both_datasets['Career Satisfaction']/both_datasets['Financial Stress']\n",
    "\n",
    "#Version 23, feature engineering 'CareerHours_to_Sleep' Edit: thinking of removing this as it has a negative correlation, which makes no sense as a high work hour to sleep hour ratio should be bad for a person. oh wait but maybe a certain range is good but a ratio thats too high or too low is bad. THIS COLUMN CAN BE THE START OF QUANTIFYING WORK-LIFE BALANCE omg eureka moment. print out the row and print a distribution, print the depression or not row as well to see whats the sweet spot for the ratio, see the max few rat\n",
    "both_datasets['CareerHours_to_Sleep'] = both_datasets['Work/Study Hours']/both_datasets['Sleep Duration']\n",
    "\n",
    "# splitting both_datasets to get back train_data and test_data\n",
    "train_data = both_datasets.iloc[:len(train_data)].copy()\n",
    "test_data = both_datasets.iloc[len(train_data):].copy()\n",
    "\n",
    "# Version 23: seeing the distribution of the 'CareerHours_to_Sleep' values in the train_data for both rows with and without depression\n",
    "# this is to try and see what kind of ratios are most common in people with depression and without\n",
    "train_depressed = train_data[train_data['Depression'] == 1] # with depression\n",
    "print(len(train_depressed))\n",
    "ratio1 = train_depressed['CareerHours_to_Sleep']\n",
    "ratio1 = np.array(ratio1)\n",
    "pyplot.hist(ratio1, bins=8) \n",
    "pyplot.xlabel('ratio1')\n",
    "pyplot.ylabel('frequency')\n",
    "pyplot.show()\n",
    "\n",
    "train_notdepressed = train_data[train_data['Depression'] == 0]\n",
    "ratio0 = train_notdepressed['CareerHours_to_Sleep']\n",
    "ratio0 = np.array(ratio0)\n",
    "pyplot.hist(ratio0, bins=8) \n",
    "pyplot.xlabel('ratio0')\n",
    "pyplot.ylabel('frequency')\n",
    "pyplot.show()\n",
    "\n",
    "# it is with sadness that i announce the removal of my homie, column 'CareerHours_to_Sleep', from the dataset"
   ]
  },
  {
   "cell_type": "markdown",
   "id": "eef04395",
   "metadata": {
    "papermill": {
     "duration": 0.004361,
     "end_time": "2024-11-25T11:40:34.866896",
     "exception": false,
     "start_time": "2024-11-25T11:40:34.862535",
     "status": "completed"
    },
    "tags": []
   },
   "source": [
    "# 2) Configuring Machine Learning model (finally)"
   ]
  },
  {
   "cell_type": "code",
   "execution_count": 6,
   "id": "3752a2c9",
   "metadata": {
    "execution": {
     "iopub.execute_input": "2024-11-25T11:40:34.879124Z",
     "iopub.status.busy": "2024-11-25T11:40:34.878574Z",
     "iopub.status.idle": "2024-11-25T11:40:38.901105Z",
     "shell.execute_reply": "2024-11-25T11:40:38.899073Z"
    },
    "papermill": {
     "duration": 4.033158,
     "end_time": "2024-11-25T11:40:38.905615",
     "exception": false,
     "start_time": "2024-11-25T11:40:34.872457",
     "status": "completed"
    },
    "tags": []
   },
   "outputs": [
    {
     "name": "stdout",
     "output_type": "stream",
     "text": [
      "103\n",
      "0.93930\n",
      "abs coefficient    0.029818\n",
      "Name: CareerHours_to_Sleep, dtype: float64\n",
      "                                                    abs coefficient\n",
      "Age                                                        2.073730\n",
      "Pressure                                                   1.021695\n",
      "Working Professional or Student_Working Profess...         0.889672\n",
      "Working Professional or Student_Student                    0.889672\n",
      "Financial Stress                                           0.782627\n",
      "Profession_Student                                         0.765328\n",
      "Have you ever had suicidal thoughts ?_Yes                  0.622840\n",
      "Have you ever had suicidal thoughts ?_No                   0.622840\n",
      "Career Satisfaction                                        0.555892\n",
      "Work/Study Hours                                           0.532119\n",
      "Dietary Habits                                             0.415710\n",
      "Sleep Duration                                             0.305057\n",
      "Profession_Unknown Profession                              0.296322\n",
      "Profession_Architect                                       0.176498\n",
      "Profession_HR Manager                                      0.139629\n",
      "Profession_Teacher                                         0.139199\n",
      "Degree_Class 12                                            0.112859\n",
      "Profession_Judge                                           0.109906\n",
      "Profession_Civil Engineer                                  0.109553\n",
      "Profession_Graphic Designer                                0.104374\n",
      "Profession_Entrepreneur                                    0.101668\n",
      "Profession_Mechanical Engineer                             0.098749\n",
      "Profession_Data Scientist                                  0.098259\n",
      "Profession_Manager                                         0.094470\n",
      "Profession_Lawyer                                          0.093981\n",
      "Profession_Educational Consultant                          0.092692\n",
      "Profession_Content Writer                                  0.090831\n",
      "Profession_Financial Analyst                               0.085249\n",
      "Profession_Pilot                                           0.072656\n",
      "Profession_Plumber                                         0.071757\n",
      "Profession_Doctor                                          0.066904\n",
      "Degree_M.Arch                                              0.065542\n",
      "Degree_B.Sc                                                0.062304\n",
      "Profession_Consultant                                      0.059518\n",
      "Degree_Unknown Degree                                      0.057533\n",
      "Profession_Unemployed                                      0.057487\n",
      "Family History of Mental Illness_No                        0.053974\n",
      "Family History of Mental Illness_Yes                       0.053974\n",
      "Profession_Researcher                                      0.053502\n",
      "Profession_Chemist                                         0.052764\n",
      "Profession_Investment Banker                               0.052753\n",
      "Profession_Pharmacist                                      0.050718\n",
      "Degree_LLB                                                 0.049399\n",
      "Degree_BA                                                  0.048760\n",
      "Profession_Customer Support                                0.048294\n",
      "Degree_PhD                                                 0.048019\n",
      "Profession_Accountant                                      0.047110\n",
      "Degree_BE                                                  0.045856\n",
      "Profession_Business Analyst                                0.044745\n",
      "Profession_Sales Executive                                 0.037535\n",
      "Degree_MD                                                  0.037182\n",
      "Profession_Electrician                                     0.036190\n",
      "Degree_B.Pharm                                             0.033424\n",
      "CGPA                                                       0.033075\n",
      "Degree_MBA                                                 0.031163\n",
      "CareerHours_to_Sleep                                       0.029818\n",
      "Degree_MSc                                                 0.027947\n",
      "Profession_Analyst                                         0.027946\n",
      "Profession_Marketing Manager                               0.027011\n",
      "Degree_MPharm                                              0.025227\n"
     ]
    }
   ],
   "source": [
    "# getting X and y from the train_data\n",
    "X = train_data.drop('Depression', axis=1)\n",
    "columnnames = X.columns\n",
    "print(len(columnnames))\n",
    "y = train_data['Depression']\n",
    "\n",
    "# scaling the numerical values in X\n",
    "from sklearn.preprocessing import StandardScaler\n",
    "scaler = StandardScaler()\n",
    "X = scaler.fit_transform(X)\n",
    "\n",
    "# splitting up the training data further to get a mock test dataset\n",
    "from sklearn.model_selection import train_test_split\n",
    "X_train, X_test, y_train, y_test = train_test_split(X, y, test_size=0.2, random_state=0)\n",
    "\n",
    "# to start, lets try a simple Logistic Regression classification model with just 1 custom hyperparam\n",
    "from sklearn.linear_model import LogisticRegression\n",
    "model = LogisticRegression(random_state=0, max_iter=150)\n",
    "model.fit(X_train, y_train)\n",
    "predictions = model.predict(X_test)\n",
    "\n",
    "# checking accuracy\n",
    "from sklearn.metrics import accuracy_score\n",
    "accuracy = accuracy_score(y_test, predictions)\n",
    "print(str(accuracy)[:7])\n",
    "\n",
    "# seeing which features were most influential during model training by looking at variables coefficients\n",
    "coefficients = model.coef_\n",
    "coefficients = coefficients.flatten()\n",
    "feat_impt = pd.DataFrame(abs(coefficients), index=columnnames, columns=[\"abs coefficient\"])\n",
    "feat_impt = feat_impt.sort_values(by='abs coefficient', ascending=False)\n",
    "print(feat_impt.loc['CareerHours_to_Sleep'])\n",
    "print(feat_impt.head(60))"
   ]
  },
  {
   "cell_type": "markdown",
   "id": "98d9459b",
   "metadata": {
    "papermill": {
     "duration": 0.008111,
     "end_time": "2024-11-25T11:40:38.922384",
     "exception": false,
     "start_time": "2024-11-25T11:40:38.914273",
     "status": "completed"
    },
    "tags": []
   },
   "source": [
    "# Submission"
   ]
  },
  {
   "cell_type": "code",
   "execution_count": 7,
   "id": "4cb7bd40",
   "metadata": {
    "execution": {
     "iopub.execute_input": "2024-11-25T11:40:38.943496Z",
     "iopub.status.busy": "2024-11-25T11:40:38.942396Z",
     "iopub.status.idle": "2024-11-25T11:40:41.292719Z",
     "shell.execute_reply": "2024-11-25T11:40:41.291331Z"
    },
    "papermill": {
     "duration": 2.364526,
     "end_time": "2024-11-25T11:40:41.295943",
     "exception": false,
     "start_time": "2024-11-25T11:40:38.931417",
     "status": "completed"
    },
    "tags": []
   },
   "outputs": [
    {
     "name": "stdout",
     "output_type": "stream",
     "text": [
      "103\n",
      "           id  Depression\n",
      "0      140700         0.0\n",
      "1      140701         0.0\n",
      "2      140702         0.0\n",
      "3      140703         1.0\n",
      "4      140704         0.0\n",
      "...       ...         ...\n",
      "93795  234495         0.0\n",
      "93796  234496         1.0\n",
      "93797  234497         0.0\n",
      "93798  234498         1.0\n",
      "93799  234499         0.0\n",
      "\n",
      "[93800 rows x 2 columns]\n",
      "success yahuu\n"
     ]
    }
   ],
   "source": [
    "model.fit(X, y)\n",
    "test_data = test_data.drop('Depression', axis=1)\n",
    "print(len(test_data.columns))\n",
    "test_data = scaler.fit_transform(test_data)\n",
    "pred = model.predict(test_data)\n",
    "\n",
    "# creating submission Dataframe\n",
    "output = pd.DataFrame({'id': Id_Series, 'Depression': pred})\n",
    "print(output)\n",
    "output.to_csv('submission.csv', index=False)\n",
    "print('success yahuu')"
   ]
  }
 ],
 "metadata": {
  "kaggle": {
   "accelerator": "none",
   "dataSources": [
    {
     "databundleVersionId": 10008389,
     "sourceId": 84895,
     "sourceType": "competition"
    }
   ],
   "dockerImageVersionId": 30786,
   "isGpuEnabled": false,
   "isInternetEnabled": true,
   "language": "python",
   "sourceType": "notebook"
  },
  "kernelspec": {
   "display_name": "Python 3",
   "language": "python",
   "name": "python3"
  },
  "language_info": {
   "codemirror_mode": {
    "name": "ipython",
    "version": 3
   },
   "file_extension": ".py",
   "mimetype": "text/x-python",
   "name": "python",
   "nbconvert_exporter": "python",
   "pygments_lexer": "ipython3",
   "version": "3.10.14"
  },
  "papermill": {
   "default_parameters": {},
   "duration": 15.431494,
   "end_time": "2024-11-25T11:40:41.922811",
   "environment_variables": {},
   "exception": null,
   "input_path": "__notebook__.ipynb",
   "output_path": "__notebook__.ipynb",
   "parameters": {},
   "start_time": "2024-11-25T11:40:26.491317",
   "version": "2.6.0"
  }
 },
 "nbformat": 4,
 "nbformat_minor": 5
}
