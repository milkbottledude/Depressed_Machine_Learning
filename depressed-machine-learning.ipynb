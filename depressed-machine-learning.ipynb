{
 "cells": [
  {
   "cell_type": "code",
   "execution_count": 1,
   "id": "07bc48e2",
   "metadata": {
    "_cell_guid": "b1076dfc-b9ad-4769-8c92-a6c4dae69d19",
    "_uuid": "8f2839f25d086af736a60e9eeb907d3b93b6e0e5",
    "execution": {
     "iopub.execute_input": "2024-11-24T07:58:50.252517Z",
     "iopub.status.busy": "2024-11-24T07:58:50.251990Z",
     "iopub.status.idle": "2024-11-24T07:58:51.289409Z",
     "shell.execute_reply": "2024-11-24T07:58:51.288108Z"
    },
    "papermill": {
     "duration": 1.046866,
     "end_time": "2024-11-24T07:58:51.291845",
     "exception": false,
     "start_time": "2024-11-24T07:58:50.244979",
     "status": "completed"
    },
    "tags": []
   },
   "outputs": [
    {
     "name": "stdout",
     "output_type": "stream",
     "text": [
      "/kaggle/input/playground-series-s4e11/sample_submission.csv\n",
      "/kaggle/input/playground-series-s4e11/train.csv\n",
      "/kaggle/input/playground-series-s4e11/test.csv\n"
     ]
    }
   ],
   "source": [
    "# This Python 3 environment comes with many helpful analytics libraries installed\n",
    "# It is defined by the kaggle/python Docker image: https://github.com/kaggle/docker-python\n",
    "# For example, here's several helpful packages to load\n",
    "\n",
    "import numpy as np # linear algebra\n",
    "import pandas as pd # data processing, CSV file I/O (e.g. pd.read_csv)\n",
    "\n",
    "# Input data files are available in the read-only \"../input/\" directory\n",
    "# For example, running this (by clicking run or pressing Shift+Enter) will list all files under the input directory\n",
    "\n",
    "import os\n",
    "for dirname, _, filenames in os.walk('/kaggle/input'):\n",
    "    for filename in filenames:\n",
    "        print(os.path.join(dirname, filename))\n",
    "\n",
    "# You can write up to 20GB to the current directory (/kaggle/working/) that gets preserved as output when you create a version using \"Save & Run All\" \n",
    "# You can also write temporary files to /kaggle/temp/, but they won't be saved outside of the current session"
   ]
  },
  {
   "cell_type": "markdown",
   "id": "17ef743a",
   "metadata": {
    "papermill": {
     "duration": 0.003819,
     "end_time": "2024-11-24T07:58:51.299406",
     "exception": false,
     "start_time": "2024-11-24T07:58:51.295587",
     "status": "completed"
    },
    "tags": []
   },
   "source": [
    "# 1) Data Cleaning"
   ]
  },
  {
   "cell_type": "markdown",
   "id": "ef613173",
   "metadata": {
    "papermill": {
     "duration": 0.003228,
     "end_time": "2024-11-24T07:58:51.306325",
     "exception": false,
     "start_time": "2024-11-24T07:58:51.303097",
     "status": "completed"
    },
    "tags": []
   },
   "source": [
    "## configuring training data"
   ]
  },
  {
   "cell_type": "code",
   "execution_count": 2,
   "id": "c9881078",
   "metadata": {
    "execution": {
     "iopub.execute_input": "2024-11-24T07:58:51.315389Z",
     "iopub.status.busy": "2024-11-24T07:58:51.314908Z",
     "iopub.status.idle": "2024-11-24T07:58:52.063079Z",
     "shell.execute_reply": "2024-11-24T07:58:52.061643Z"
    },
    "papermill": {
     "duration": 0.756279,
     "end_time": "2024-11-24T07:58:52.065987",
     "exception": false,
     "start_time": "2024-11-24T07:58:51.309708",
     "status": "completed"
    },
    "tags": []
   },
   "outputs": [
    {
     "name": "stdout",
     "output_type": "stream",
     "text": [
      "7.77\n",
      "fillNaN complete\n"
     ]
    }
   ],
   "source": [
    "train_data = pd.read_csv(\"/kaggle/input/playground-series-s4e11/train.csv\")\n",
    "# first imma get rid of the columns that obviously have no relation to whether one has depression or not\n",
    "# removing columns 'id' and 'Name'\n",
    "train_data = train_data.drop(['id', 'Name'], axis=1)\n",
    "\n",
    "# function to check for NaN values in a column\n",
    "def checknan(colname):\n",
    "    print(train_data[train_data[colname].isna()])\n",
    "\n",
    "# function to fillna with either mean, median, 0, or another column\n",
    "def fillNaN(colnamelist, type, othercol=None):\n",
    "    if type == 'mean':\n",
    "        for colname in colnamelist:\n",
    "            train_data.fillna({colname: train_data[colname].mean()}, inplace = True)\n",
    "    elif type == 'median':\n",
    "        for colname in colnamelist:\n",
    "            train_data.fillna({colname: train_data[colname].median()}, inplace = True)\n",
    "    elif type == 0:\n",
    "        for colname in colnamelist:\n",
    "            train_data.fillna({colname: 0}, inplace = True)\n",
    "    elif type == 'othercol':\n",
    "        for colname in colnamelist:\n",
    "            train_data.fillna({colname: train_data[othercol]}, inplace = True)\n",
    "    print('fillNaN complete')\n",
    "        \n",
    "# dealing with NaNs in column: Profession\n",
    "train_data['Profession'] = train_data['Profession'].fillna(train_data['Working Professional or Student'])\n",
    "\n",
    "# dealing with NaNs in columns: Academic Pressure & Work Pressure\n",
    "train_data['Work Pressure'] = train_data['Work Pressure'].fillna(train_data['Academic Pressure'])\n",
    "train_data['Pressure'] = train_data['Work Pressure']\n",
    "train_data.drop(['Work Pressure', 'Academic Pressure'], axis=1, inplace=True)\n",
    "train_data.fillna({'Pressure': 0}, inplace=True)\n",
    "\n",
    "# dealing with NaNs in column: CGPA\n",
    "print(train_data['CGPA'].median())\n",
    "train_data['CGPA'] = train_data['CGPA'].fillna(train_data['CGPA'].median())\n",
    "\n",
    "# dealing with NaNs in columns: Study Satisfaction and Job Satisfaction\n",
    "train_data['Job Satisfaction'] = train_data['Job Satisfaction'].fillna(train_data['Study Satisfaction'])\n",
    "train_data.fillna({'Job Satisfaction': train_data['Job Satisfaction'].mean()}, inplace=True)\n",
    "train_data['Career Satisfaction'] = train_data['Job Satisfaction']\n",
    "train_data.drop(['Job Satisfaction', 'Study Satisfaction'], axis=1, inplace=True)\n",
    "\n",
    "# Dietary Habits and Degree columns\n",
    "train_data.fillna({'Degree': 'Unknown Degree', 'Dietary Habits': 'Moderate'}, inplace=True)\n",
    "\n",
    "# Financial Stress\n",
    "fillNaN(['Financial Stress'], 'mean')\n",
    "\n"
   ]
  },
  {
   "cell_type": "markdown",
   "id": "a531ab9e",
   "metadata": {
    "papermill": {
     "duration": 0.003338,
     "end_time": "2024-11-24T07:58:52.073150",
     "exception": false,
     "start_time": "2024-11-24T07:58:52.069812",
     "status": "completed"
    },
    "tags": []
   },
   "source": [
    "## configuring test data"
   ]
  },
  {
   "cell_type": "code",
   "execution_count": 3,
   "id": "8362a226",
   "metadata": {
    "execution": {
     "iopub.execute_input": "2024-11-24T07:58:52.081808Z",
     "iopub.status.busy": "2024-11-24T07:58:52.081392Z",
     "iopub.status.idle": "2024-11-24T07:58:52.541126Z",
     "shell.execute_reply": "2024-11-24T07:58:52.539756Z"
    },
    "papermill": {
     "duration": 0.466963,
     "end_time": "2024-11-24T07:58:52.543651",
     "exception": false,
     "start_time": "2024-11-24T07:58:52.076688",
     "status": "completed"
    },
    "tags": []
   },
   "outputs": [
    {
     "name": "stdout",
     "output_type": "stream",
     "text": [
      "7.8\n",
      "fillNaN complete\n"
     ]
    }
   ],
   "source": [
    "test_data = pd.read_csv(\"/kaggle/input/playground-series-s4e11/test.csv\")\n",
    "# extracting the id column for submission later\n",
    "Id_Series = test_data['id']\n",
    "test_data.drop(['Name', 'id'], axis=1, inplace=True)\n",
    "\n",
    "# function to check for NaN values in a column\n",
    "def checknan(colname):\n",
    "    print(test_data[test_data[colname].isna()])\n",
    "\n",
    "# function to fillna with either mean, median, 0, or another column\n",
    "def fillNaN(colnamelist, type, othercol=None):\n",
    "    if type == 'mean':\n",
    "        for colname in colnamelist:\n",
    "            test_data.fillna({colname: train_data[colname].mean()}, inplace = True) # fillna with training data mean\n",
    "    elif type == 'median':\n",
    "        for colname in colnamelist:\n",
    "            test_data.fillna({colname: train_data[colname].median()}, inplace = True) # fillna with training data median\n",
    "    elif type == 0:\n",
    "        for colname in colnamelist:\n",
    "            test_data.fillna({colname: 0}, inplace = True)\n",
    "    elif type == 'othercol':\n",
    "        for colname in colnamelist:\n",
    "            test_data.fillna({colname: test_data[othercol]}, inplace = True)\n",
    "    print('fillNaN complete')\n",
    "        \n",
    "# dealing with NaNs in column: Profession\n",
    "test_data['Profession'] = test_data['Profession'].fillna(test_data['Working Professional or Student'])\n",
    "\n",
    "# dealing with NaNs in columns: Academic Pressure & Work Pressure\n",
    "test_data['Work Pressure'] = test_data['Work Pressure'].fillna(test_data['Academic Pressure'])\n",
    "test_data['Pressure'] = test_data['Work Pressure']\n",
    "test_data.drop(['Work Pressure', 'Academic Pressure'], axis=1, inplace=True)\n",
    "test_data.fillna({'Pressure': 0}, inplace=True)\n",
    "\n",
    "# dealing with NaNs in column: CGPA\n",
    "print(test_data['CGPA'].median())\n",
    "test_data['CGPA'] = test_data['CGPA'].fillna(train_data['CGPA'].median())\n",
    "\n",
    "# dealing with NaNs in columns: Study Satisfaction and Job Satisfaction\n",
    "test_data['Job Satisfaction'] = test_data['Job Satisfaction'].fillna(test_data['Study Satisfaction'])\n",
    "test_data.fillna({'Job Satisfaction': train_data['Career Satisfaction'].mean()}, inplace=True)\n",
    "test_data['Career Satisfaction'] = test_data['Job Satisfaction']\n",
    "test_data.drop(['Job Satisfaction', 'Study Satisfaction'], axis=1, inplace=True)\n",
    "\n",
    "# Dietary Habits and Degree columns\n",
    "test_data.fillna({'Degree': 'Unknown Degree', 'Dietary Habits': 'Moderate'}, inplace=True)\n",
    "\n",
    "# Financial Stress\n",
    "fillNaN(['Financial Stress'], 'mean')\n",
    "testcities = test_data['City'].unique()\n",
    "\n",
    "\n"
   ]
  },
  {
   "cell_type": "markdown",
   "id": "c8837328",
   "metadata": {
    "papermill": {
     "duration": 0.003475,
     "end_time": "2024-11-24T07:58:52.550856",
     "exception": false,
     "start_time": "2024-11-24T07:58:52.547381",
     "status": "completed"
    },
    "tags": []
   },
   "source": [
    "checking all columns for values that are in one dataset but not in the other, as well as getting rid of nonsense data values"
   ]
  },
  {
   "cell_type": "code",
   "execution_count": 4,
   "id": "dab1eed4",
   "metadata": {
    "execution": {
     "iopub.execute_input": "2024-11-24T07:58:52.560806Z",
     "iopub.status.busy": "2024-11-24T07:58:52.560329Z",
     "iopub.status.idle": "2024-11-24T07:58:54.232829Z",
     "shell.execute_reply": "2024-11-24T07:58:54.231763Z"
    },
    "papermill": {
     "duration": 1.680767,
     "end_time": "2024-11-24T07:58:54.235317",
     "exception": false,
     "start_time": "2024-11-24T07:58:52.554550",
     "status": "completed"
    },
    "tags": []
   },
   "outputs": [],
   "source": [
    "# columns to fix: 'City', 'Profession', 'Degree'\n",
    "both_datasets = pd.concat([train_data, test_data], axis=0)\n",
    "# fixing weird profession names\n",
    "both_datasets['Profession'] = both_datasets['Profession'].replace({'Finanancial Analyst': 'Financial Analyst', 'B.Pharm': 'Pharmacist', 'M.Pharm': 'Pharmacist', 'Family Consultant': 'Consultant'})\n",
    "# replacing gibberish in the 'Profession' column with 'Unknown Profession'\n",
    "both_datasets['Profession'] = both_datasets['Profession'].replace(['Visakhapatnam', 'B.Ed', 'MCA', 'FamilyVirar', '24th', 'M.Ed', 'Working Professional', 'MBBS', 'BBA', 'B.Com', '3M', 'PhD', 'Pranav', 'Manvi', 'BE', 'Simran', 'No', 'Unveil', 'Patna', 'Name', 'LLM', 'Yogesh', 'MBA', 'Moderate', 'Profession', 'BCA', 'Samar', 'Unhealthy', 'ME', 'Yuvraj', 'Surat', 'Nagpur', 'Academic'], 'Unknown Profession')\n",
    "\n",
    "# Version 17: getting rid of nonsense degrees in the 'Degree' column\n",
    "both_datasets['Degree'] = both_datasets['Degree'].replace(['Marsh', 'Vibha', 'LHM', 'PCA', 'I.Ed', 'B.Study_Hours', 'Entrepreneur', 'Bhavesh', 'Working Professional', 'Degree', 'Mahika', 'N.Pharm', 'Data Scientist', 'J.Ed', 'Badhya', 'Moham', 'Advait', 'B._Pharm', 'RCA', 'Rupak', 'Plumber', 'Brit', 'Kalyan', 'GCA', 'Unite', 'B. Gender', 'B.03', 'B.3.79', 'Business Analyst', 'Nalini', 'M. Business Analyst', 'Bhopal', 'BH', 'Banchal', 'S.Tech', 'B.Student', 'Bian', 'Esha', 'LLS', '29', 'HR Manager', 'Lata', 'S.Arch', 'B.Press', 'E.Tech', '8.95', 'Vivaan', 'GCA', 'M.UI', 'BH', 'HCA', 'A.Ed', 'Aadhya', 'Pune', 'Class 11', 'Class 12', 'Magan', 'MD', 'P.Pharm', 'B Financial Analyst', 'ACA', 'Brithika', 'Gagan', 'Mechanical Engineer', 'Doctor', 'Lata', 'S.Arch', 'B.Press', 'E.Tech'], 'Unknown Degree')\n",
    "\n",
    "# Version 17: getting rid of nonsense degrees in the 'City' column\n",
    "both_datasets['City'] = both_datasets['City'].replace(['Less Delhi', 'More Delhi'], 'Delhi') # im assuming these 2 values are typos for the city Delhi\n",
    "both_datasets['City'] = both_datasets['City'].replace(['Abhinav', 'Pooja', 'Unirar', 'Ayush', 'Lawyer', 'Armaan', 'Nalyan', 'Kagan', 'M.Com', 'Avni', 'Harsh', 'Mhopal', 'Kibara', 'Vaikot', 'ME', 'Kashish', 'Pratham', 'Molkata', 'Vaanya', 'Anvi', 'Ayansh', 'Khushi', 'Leela', 'Saanvi', 'Raghavendra', 'Harsha', 'Mihir', 'MSc', 'Moreadhyay', 'Vikram', 'Keshav', 'M.Tech', 'Chemist', 'Mahi', 'Kashk', 'Krinda', 'Malyan', 'Tushar', 'Saurav', 'San Vasai-Virar', 'Nandini', 'Mira', 'Krishna', 'Rolkata', 'Ivaan', 'Rashi', 'No', 'Siddhesh', 'Less than 5 Kalyan', 'Nalini', 'Aishwarya', 'Golkata', 'City', 'Vidya', 'Aaradhya', 'Ishanabad', 'Jhanvi', 'Khaziabad', 'Is Kanpur', 'No.12', 'Shrey', 'Aditya', 'Itheg', 'Bhavna', 'Atharv', 'Ghaziabad', 'Less than 5 hours', 'Parth', 'Ithal', 'Thani', 'Ghopal', 'Researcher', 'Vaishnavi', 'Chhavi', 'Malyansh', 'Galesabad', 'Hrithik', 'Reyansh', 'Tolkata', 'Ishkarsh', 'Dhruv', 'Pratyush', 'Sara', 'Vidhi', 'Aditi'], 'Unknown City')\n",
    "\n",
    "# getting train_data for the purpose of calculating the training data's mean sleep duration\n",
    "train_data = both_datasets.iloc[:len(train_data)].copy()"
   ]
  },
  {
   "cell_type": "markdown",
   "id": "ccbf7f59",
   "metadata": {
    "papermill": {
     "duration": 0.0035,
     "end_time": "2024-11-24T07:58:54.242668",
     "exception": false,
     "start_time": "2024-11-24T07:58:54.239168",
     "status": "completed"
    },
    "tags": []
   },
   "source": [
    "#### Tidying the columns 'Sleep Duration' and 'Dietary Habits' cuz some of their values r just stupid\n",
    "\n",
    "messy ahh dataset"
   ]
  },
  {
   "cell_type": "code",
   "execution_count": 5,
   "id": "af161ee5",
   "metadata": {
    "execution": {
     "iopub.execute_input": "2024-11-24T07:58:54.251595Z",
     "iopub.status.busy": "2024-11-24T07:58:54.251200Z",
     "iopub.status.idle": "2024-11-24T07:58:54.924985Z",
     "shell.execute_reply": "2024-11-24T07:58:54.923600Z"
    },
    "papermill": {
     "duration": 0.681669,
     "end_time": "2024-11-24T07:58:54.927904",
     "exception": false,
     "start_time": "2024-11-24T07:58:54.246235",
     "status": "completed"
    },
    "tags": []
   },
   "outputs": [
    {
     "data": {
      "image/png": "[encoded data removed]",
      "text/plain": [
       "<Figure size 640x480 with 1 Axes>"
      ]
     },
     "metadata": {},
     "output_type": "display_data"
    }
   ],
   "source": [
    "import matplotlib.pyplot as pyplot\n",
    "\n",
    "honkshoo = {\n",
    "    '40-45 hours': 6,\n",
    "    'More than 8 hours': 9,\n",
    "    '1-3 hours': 2,\n",
    "    '9-11 hours': 10,\n",
    "    '9-6 hours': 7,\n",
    "    '8 hours': 8,\n",
    "    '35-36 hours': 5,\n",
    "    '1-2 hours': 1,\n",
    "    '10-6 hours': 8,\n",
    "    'than 5 hours': 5,\n",
    "    '1-6 hours': 4,\n",
    "    '8-9 hours': 9,\n",
    "    '9-5': 7,\n",
    "    '9-10 hours': 9,\n",
    "    '20-21 hours': 3,\n",
    "    '5-6 hours': 6,\n",
    "    '45-48 hours': 7,\n",
    "    '2-3 hours': 3,\n",
    "    '6-7 hours': 6,\n",
    "    '55-66 hours': 9,\n",
    "    '45': 6,\n",
    "    '7-8 hours': 7,\n",
    "    '10-11 hours': 10,\n",
    "    '4-6 hours': 5,\n",
    "    'Less than 5 hours': 3,\n",
    "    '4-5 hours': 4,\n",
    "    '1-2 hours': 1,\n",
    "    '6-8 hours': 7,\n",
    "    '8-89 hours': 12,\n",
    "    '49 hours': 7,\n",
    "    '3-6 hours': 4,\n",
    "    '60-65 hours': 9,\n",
    "    '6 hours': 6,\n",
    "    '9-5 hours': 7,\n",
    "    '50-75 hours': 9,\n",
    "    '3-4 hours': 3\n",
    "}\n",
    "# column values not in honkshoo: Moderate, Unhealthy, Have_you_ever_had_suicidal_thoughts, Work_Study_Hours, No, Meerut, 0, Vivan, Indore, Sleep_Duration, Pune\n",
    "\n",
    "train_data['Sleep Duration'] = train_data['Sleep Duration'].map(honkshoo)\n",
    "both_datasets['Sleep Duration'] = both_datasets['Sleep Duration'].map(honkshoo)\n",
    "\n",
    "# seeing the distribution of the 'Sleep Duration' values in the train_data\n",
    "sleep_only = train_data['Sleep Duration'].dropna()\n",
    "sleep_only = np.array(sleep_only)\n",
    "pyplot.hist(sleep_only, bins=10) # 10 bins cos max sleep value is 10 hours\n",
    "pyplot.xlabel('hour')\n",
    "pyplot.ylabel('frequency')\n",
    "pyplot.show()\n",
    "\n",
    "# replacing NaN values in 'Sleep Duration' with the mean\n",
    "meansleep = train_data['Sleep Duration'].mean()\n",
    "both_datasets['Sleep Duration'] = both_datasets['Sleep Duration'].fillna(meansleep)\n",
    "\n",
    "# moving on to 'Dietary Habits' column\n",
    "dhabits = {\n",
    "    'Unhealthy': 1,\n",
    "    'Moderate': 2,\n",
    "    'Healthy': 3,\n",
    "    'No Healthy': 1,\n",
    "    'More Healthy': 3,\n",
    "    'Less than Healthy': 1,\n",
    "    'Less Healthy': 1\n",
    "}\n",
    "both_datasets['Dietary Habits'] = both_datasets['Dietary Habits'].map(dhabits)\n",
    "both_datasets['Dietary Habits'] = both_datasets['Dietary Habits'].fillna(2)\n",
    "\n",
    "# getting dummies in both_datasets so that both train_data and test_data will have the same columns after splitting\n",
    "both_datasets = pd.get_dummies(both_datasets)\n",
    "# splitting both_datasets to get back train_data and test_data\n",
    "train_data = both_datasets.iloc[:len(train_data)].copy()\n",
    "test_data = both_datasets.iloc[len(train_data):].copy()"
   ]
  },
  {
   "cell_type": "markdown",
   "id": "4dc4d4aa",
   "metadata": {
    "papermill": {
     "duration": 0.004973,
     "end_time": "2024-11-24T07:58:54.938463",
     "exception": false,
     "start_time": "2024-11-24T07:58:54.933490",
     "status": "completed"
    },
    "tags": []
   },
   "source": [
    "# 2) Configuring Machine Learning model (finally)"
   ]
  },
  {
   "cell_type": "code",
   "execution_count": 6,
   "id": "1c877def",
   "metadata": {
    "execution": {
     "iopub.execute_input": "2024-11-24T07:58:54.950868Z",
     "iopub.status.busy": "2024-11-24T07:58:54.950081Z",
     "iopub.status.idle": "2024-11-24T07:59:01.158832Z",
     "shell.execute_reply": "2024-11-24T07:59:01.157003Z"
    },
    "papermill": {
     "duration": 6.220198,
     "end_time": "2024-11-24T07:59:01.163707",
     "exception": false,
     "start_time": "2024-11-24T07:58:54.943509",
     "status": "completed"
    },
    "tags": []
   },
   "outputs": [
    {
     "name": "stdout",
     "output_type": "stream",
     "text": [
      "193\n",
      "0.93894\n",
      "                            abs coefficient\n",
      "Profession_MD                      0.000000\n",
      "Profession_City Consultant         0.000000\n",
      "Profession_M.Tech                  0.000000\n",
      "Degree_M.M.Ed                      0.000000\n",
      "Degree_M.B.Ed                      0.000000\n",
      "Profession_Surgeon                 0.000000\n",
      "Degree_M.                          0.000000\n",
      "Degree_3.0                         0.000000\n",
      "City_Ira                           0.000000\n",
      "Degree_5.65                        0.000000\n",
      "Degree_B B.Tech                    0.000000\n",
      "Degree_B.BA                        0.000000\n",
      "Degree_B.CA                        0.000000\n",
      "Degree_B.H                         0.000000\n",
      "Degree_B BCA                       0.000000\n",
      "Degree_BHCA                        0.000000\n",
      "Degree_Kavya                       0.000000\n",
      "Degree_Travel Consultant           0.000000\n",
      "Degree_G.Ed                        0.000000\n",
      "Degree_Eshita                      0.000000\n",
      "Degree_B.M.Com                     0.000000\n",
      "Degree_E.Ed                        0.000000\n",
      "City_Unaly                         0.000000\n",
      "Degree_BTech                       0.000000\n",
      "Degree_B_Com                       0.000000\n",
      "City_Vadodara                      0.002099\n",
      "Degree_BSc                         0.002372\n",
      "Degree_MHM                         0.002816\n",
      "Degree_LLBA                        0.003182\n",
      "Profession_UX/UI Designer          0.003384\n"
     ]
    }
   ],
   "source": [
    "# getting X and y from the train_data\n",
    "X = train_data.drop('Depression', axis=1)\n",
    "columnnames = X.columns\n",
    "print(len(columnnames))\n",
    "y = train_data['Depression']\n",
    "\n",
    "# scaling the numerical values in X\n",
    "from sklearn.preprocessing import StandardScaler\n",
    "scaler = StandardScaler()\n",
    "X = scaler.fit_transform(X)\n",
    "\n",
    "# splitting up the training data further to get a mock test dataset\n",
    "from sklearn.model_selection import train_test_split\n",
    "X_train, X_test, y_train, y_test = train_test_split(X, y, test_size=0.2, random_state=0)\n",
    "\n",
    "# to start, lets try a simple Logistic Regression classification model with just 1 custom hyperparam\n",
    "from sklearn.linear_model import LogisticRegression\n",
    "model = LogisticRegression(random_state=0, max_iter=150)\n",
    "model.fit(X_train, y_train)\n",
    "predictions = model.predict(X_test)\n",
    "\n",
    "# checking accuracy\n",
    "from sklearn.metrics import accuracy_score\n",
    "accuracy = accuracy_score(y_test, predictions)\n",
    "print(str(accuracy)[:7])\n",
    "\n",
    "# seeing which features were most influential during model training by looking at variables coefficients\n",
    "coefficients = model.coef_\n",
    "coefficients = coefficients.flatten()\n",
    "feat_impt = pd.DataFrame(abs(coefficients), index=columnnames, columns=[\"abs coefficient\"])\n",
    "feat_impt = feat_impt.sort_values(by='abs coefficient', ascending=True)\n",
    "print(feat_impt.head(30))\n",
    "\n"
   ]
  },
  {
   "cell_type": "markdown",
   "id": "02ed1807",
   "metadata": {
    "papermill": {
     "duration": 0.011671,
     "end_time": "2024-11-24T07:59:01.187220",
     "exception": false,
     "start_time": "2024-11-24T07:59:01.175549",
     "status": "completed"
    },
    "tags": []
   },
   "source": [
    "# Submission"
   ]
  },
  {
   "cell_type": "code",
   "execution_count": 7,
   "id": "89d488db",
   "metadata": {
    "execution": {
     "iopub.execute_input": "2024-11-24T07:59:01.213890Z",
     "iopub.status.busy": "2024-11-24T07:59:01.212908Z",
     "iopub.status.idle": "2024-11-24T07:59:04.213328Z",
     "shell.execute_reply": "2024-11-24T07:59:04.212169Z"
    },
    "papermill": {
     "duration": 3.016895,
     "end_time": "2024-11-24T07:59:04.215726",
     "exception": false,
     "start_time": "2024-11-24T07:59:01.198831",
     "status": "completed"
    },
    "tags": []
   },
   "outputs": [
    {
     "name": "stdout",
     "output_type": "stream",
     "text": [
      "193\n",
      "           id  Depression\n",
      "0      140700         0.0\n",
      "1      140701         0.0\n",
      "2      140702         0.0\n",
      "3      140703         1.0\n",
      "4      140704         0.0\n",
      "...       ...         ...\n",
      "93795  234495         0.0\n",
      "93796  234496         1.0\n",
      "93797  234497         0.0\n",
      "93798  234498         1.0\n",
      "93799  234499         0.0\n",
      "\n",
      "[93800 rows x 2 columns]\n",
      "success yahuu\n"
     ]
    }
   ],
   "source": [
    "model.fit(X, y)\n",
    "test_data = test_data.drop('Depression', axis=1)\n",
    "print(len(test_data.columns))\n",
    "test_data = scaler.fit_transform(test_data)\n",
    "pred = model.predict(test_data)\n",
    "\n",
    "# creating submission Dataframe\n",
    "output = pd.DataFrame({'id': Id_Series, 'Depression': pred})\n",
    "print(output)\n",
    "output.to_csv('submission.csv', index=False)\n",
    "print('success yahuu')"
   ]
  }
 ],
 "metadata": {
  "kaggle": {
   "accelerator": "none",
   "dataSources": [
    {
     "databundleVersionId": 10008389,
     "sourceId": 84895,
     "sourceType": "competition"
    }
   ],
   "dockerImageVersionId": 30786,
   "isGpuEnabled": false,
   "isInternetEnabled": true,
   "language": "python",
   "sourceType": "notebook"
  },
  "kernelspec": {
   "display_name": "Python 3",
   "language": "python",
   "name": "python3"
  },
  "language_info": {
   "codemirror_mode": {
    "name": "ipython",
    "version": 3
   },
   "file_extension": ".py",
   "mimetype": "text/x-python",
   "name": "python",
   "nbconvert_exporter": "python",
   "pygments_lexer": "ipython3",
   "version": "3.10.14"
  },
  "papermill": {
   "default_parameters": {},
   "duration": 17.584689,
   "end_time": "2024-11-24T07:59:04.841079",
   "environment_variables": {},
   "exception": null,
   "input_path": "__notebook__.ipynb",
   "output_path": "__notebook__.ipynb",
   "parameters": {},
   "start_time": "2024-11-24T07:58:47.256390",
   "version": "2.6.0"
  }
 },
 "nbformat": 4,
 "nbformat_minor": 5
}
