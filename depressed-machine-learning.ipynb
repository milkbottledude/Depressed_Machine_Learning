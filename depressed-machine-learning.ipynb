{
 "cells": [
  {
   "cell_type": "code",
   "execution_count": 1,
   "id": "82b4ed1e",
   "metadata": {
    "_cell_guid": "b1076dfc-b9ad-4769-8c92-a6c4dae69d19",
    "_uuid": "8f2839f25d086af736a60e9eeb907d3b93b6e0e5",
    "execution": {
     "iopub.execute_input": "2024-11-30T08:14:17.950970Z",
     "iopub.status.busy": "2024-11-30T08:14:17.950362Z",
     "iopub.status.idle": "2024-11-30T08:14:18.965809Z",
     "shell.execute_reply": "2024-11-30T08:14:18.964508Z"
    },
    "papermill": {
     "duration": 1.02598,
     "end_time": "2024-11-30T08:14:18.968247",
     "exception": false,
     "start_time": "2024-11-30T08:14:17.942267",
     "status": "completed"
    },
    "tags": []
   },
   "outputs": [
    {
     "name": "stdout",
     "output_type": "stream",
     "text": [
      "/kaggle/input/playground-series-s4e11/sample_submission.csv\n",
      "/kaggle/input/playground-series-s4e11/train.csv\n",
      "/kaggle/input/playground-series-s4e11/test.csv\n"
     ]
    }
   ],
   "source": [
    "# This Python 3 environment comes with many helpful analytics libraries installed\n",
    "# It is defined by the kaggle/python Docker image: https://github.com/kaggle/docker-python\n",
    "# For example, here's several helpful packages to load\n",
    "\n",
    "import numpy as np # linear algebra\n",
    "import pandas as pd # data processing, CSV file I/O (e.g. pd.read_csv)\n",
    "\n",
    "# Input data files are available in the read-only \"../input/\" directory\n",
    "# For example, running this (by clicking run or pressing Shift+Enter) will list all files under the input directory\n",
    "\n",
    "import os\n",
    "for dirname, _, filenames in os.walk('/kaggle/input'):\n",
    "    for filename in filenames:\n",
    "        print(os.path.join(dirname, filename))\n",
    "\n",
    "# You can write up to 20GB to the current directory (/kaggle/working/) that gets preserved as output when you create a version using \"Save & Run All\" \n",
    "# You can also write temporary files to /kaggle/temp/, but they won't be saved outside of the current session"
   ]
  },
  {
   "cell_type": "markdown",
   "id": "ed63b8ab",
   "metadata": {
    "papermill": {
     "duration": 0.00387,
     "end_time": "2024-11-30T08:14:18.976058",
     "exception": false,
     "start_time": "2024-11-30T08:14:18.972188",
     "status": "completed"
    },
    "tags": []
   },
   "source": [
    "# 1) Data Cleaning"
   ]
  },
  {
   "cell_type": "markdown",
   "id": "0a50ecdc",
   "metadata": {
    "papermill": {
     "duration": 0.003311,
     "end_time": "2024-11-30T08:14:18.983026",
     "exception": false,
     "start_time": "2024-11-30T08:14:18.979715",
     "status": "completed"
    },
    "tags": []
   },
   "source": [
    "## configuring training data"
   ]
  },
  {
   "cell_type": "code",
   "execution_count": 2,
   "id": "ecaa3ad2",
   "metadata": {
    "execution": {
     "iopub.execute_input": "2024-11-30T08:14:18.992251Z",
     "iopub.status.busy": "2024-11-30T08:14:18.991247Z",
     "iopub.status.idle": "2024-11-30T08:14:19.711670Z",
     "shell.execute_reply": "2024-11-30T08:14:19.710638Z"
    },
    "papermill": {
     "duration": 0.727527,
     "end_time": "2024-11-30T08:14:19.714029",
     "exception": false,
     "start_time": "2024-11-30T08:14:18.986502",
     "status": "completed"
    },
    "tags": []
   },
   "outputs": [
    {
     "name": "stdout",
     "output_type": "stream",
     "text": [
      "3.027409919035535\n",
      "7.77\n",
      "fillNaN complete\n"
     ]
    }
   ],
   "source": [
    "train_data = pd.read_csv(\"/kaggle/input/playground-series-s4e11/train.csv\")\n",
    "# first imma get rid of the columns that obviously have no relation to whether one has depression or not\n",
    "# removing columns 'id' and 'Name'\n",
    "train_data = train_data.drop(['id', 'Name'], axis=1)\n",
    "\n",
    "# function to check for NaN values in a column\n",
    "def checknan(colname):\n",
    "    print(train_data[train_data[colname].isna()])\n",
    "\n",
    "# function to fillna with either mean, median, 0, or another column\n",
    "def fillNaN(colnamelist, type, othercol=None):\n",
    "    if type == 'mean':\n",
    "        for colname in colnamelist:\n",
    "            train_data.fillna({colname: train_data[colname].mean()}, inplace = True)\n",
    "    elif type == 'median':\n",
    "        for colname in colnamelist:\n",
    "            train_data.fillna({colname: train_data[colname].median()}, inplace = True)\n",
    "    elif type == 0:\n",
    "        for colname in colnamelist:\n",
    "            train_data.fillna({colname: 0}, inplace = True)\n",
    "    elif type == 'othercol':\n",
    "        for colname in colnamelist:\n",
    "            train_data.fillna({colname: train_data[othercol]}, inplace = True)\n",
    "    print('fillNaN complete')\n",
    "        \n",
    "# dealing with NaNs in column: Profession\n",
    "train_data['Profession'] = train_data['Profession'].fillna(train_data['Working Professional or Student'])\n",
    "\n",
    "# dealing with NaNs in columns: Academic Pressure & Work Pressure\n",
    "train_data['Work Pressure'] = train_data['Work Pressure'].fillna(train_data['Academic Pressure'])\n",
    "train_data['Pressure'] = train_data['Work Pressure']\n",
    "train_data.drop(['Work Pressure', 'Academic Pressure'], axis=1, inplace=True)\n",
    "mean_trainpressure = train_data['Pressure'].mean()\n",
    "print(mean_trainpressure)\n",
    "train_data.fillna({'Pressure': mean_trainpressure}, inplace=True)\n",
    "\n",
    "# dealing with NaNs in column: CGPA\n",
    "print(train_data['CGPA'].median())\n",
    "train_data['CGPA'] = train_data['CGPA'].fillna(train_data['CGPA'].median())\n",
    "\n",
    "# dealing with NaNs in columns: Study Satisfaction and Job Satisfaction\n",
    "train_data['Job Satisfaction'] = train_data['Job Satisfaction'].fillna(train_data['Study Satisfaction'])\n",
    "train_data.fillna({'Job Satisfaction': train_data['Job Satisfaction'].mean()}, inplace=True)\n",
    "train_data['Career Satisfaction'] = train_data['Job Satisfaction']\n",
    "train_data.drop(['Job Satisfaction', 'Study Satisfaction'], axis=1, inplace=True)\n",
    "\n",
    "# Dietary Habits and Degree columns\n",
    "train_data.fillna({'Degree': 'Unknown Degree', 'Dietary Habits': 'Moderate'}, inplace=True)\n",
    "\n",
    "# Financial Stress\n",
    "fillNaN(['Financial Stress'], 'mean')\n",
    "\n"
   ]
  },
  {
   "cell_type": "markdown",
   "id": "41871643",
   "metadata": {
    "papermill": {
     "duration": 0.003423,
     "end_time": "2024-11-30T08:14:19.721244",
     "exception": false,
     "start_time": "2024-11-30T08:14:19.717821",
     "status": "completed"
    },
    "tags": []
   },
   "source": [
    "## configuring test data"
   ]
  },
  {
   "cell_type": "code",
   "execution_count": 3,
   "id": "1967a31d",
   "metadata": {
    "execution": {
     "iopub.execute_input": "2024-11-30T08:14:19.730213Z",
     "iopub.status.busy": "2024-11-30T08:14:19.729842Z",
     "iopub.status.idle": "2024-11-30T08:14:20.203235Z",
     "shell.execute_reply": "2024-11-30T08:14:20.202089Z"
    },
    "papermill": {
     "duration": 0.4807,
     "end_time": "2024-11-30T08:14:20.205648",
     "exception": false,
     "start_time": "2024-11-30T08:14:19.724948",
     "status": "completed"
    },
    "tags": []
   },
   "outputs": [
    {
     "name": "stdout",
     "output_type": "stream",
     "text": [
      "7.8\n",
      "fillNaN complete\n"
     ]
    }
   ],
   "source": [
    "test_data = pd.read_csv(\"/kaggle/input/playground-series-s4e11/test.csv\")\n",
    "# extracting the id column for submission later\n",
    "Id_Series = test_data['id']\n",
    "test_data.drop(['Name', 'id'], axis=1, inplace=True)\n",
    "\n",
    "# function to check for NaN values in a column\n",
    "def checknan(colname):\n",
    "    print(test_data[test_data[colname].isna()])\n",
    "\n",
    "# function to fillna with either mean, median, 0, or another column\n",
    "def fillNaN(colnamelist, type, othercol=None):\n",
    "    if type == 'mean':\n",
    "        for colname in colnamelist:\n",
    "            test_data.fillna({colname: train_data[colname].mean()}, inplace = True) # fillna with training data mean\n",
    "    elif type == 'median':\n",
    "        for colname in colnamelist:\n",
    "            test_data.fillna({colname: train_data[colname].median()}, inplace = True) # fillna with training data median\n",
    "    elif type == 0:\n",
    "        for colname in colnamelist:\n",
    "            test_data.fillna({colname: 0}, inplace = True)\n",
    "    elif type == 'othercol':\n",
    "        for colname in colnamelist:\n",
    "            test_data.fillna({colname: test_data[othercol]}, inplace = True)\n",
    "    print('fillNaN complete')\n",
    "        \n",
    "# dealing with NaNs in column: Profession\n",
    "test_data['Profession'] = test_data['Profession'].fillna(test_data['Working Professional or Student'])\n",
    "\n",
    "# dealing with NaNs in columns: Academic Pressure & Work Pressure\n",
    "test_data['Work Pressure'] = test_data['Work Pressure'].fillna(test_data['Academic Pressure'])\n",
    "test_data['Pressure'] = test_data['Work Pressure']\n",
    "test_data.drop(['Work Pressure', 'Academic Pressure'], axis=1, inplace=True)\n",
    "test_data.fillna({'Pressure': mean_trainpressure}, inplace=True)\n",
    "\n",
    "# dealing with NaNs in column: CGPA\n",
    "print(test_data['CGPA'].median())\n",
    "test_data['CGPA'] = test_data['CGPA'].fillna(train_data['CGPA'].median())\n",
    "\n",
    "# dealing with NaNs in columns: Study Satisfaction and Job Satisfaction\n",
    "test_data['Job Satisfaction'] = test_data['Job Satisfaction'].fillna(test_data['Study Satisfaction'])\n",
    "test_data.fillna({'Job Satisfaction': train_data['Career Satisfaction'].mean()}, inplace=True)\n",
    "test_data['Career Satisfaction'] = test_data['Job Satisfaction']\n",
    "test_data.drop(['Job Satisfaction', 'Study Satisfaction'], axis=1, inplace=True)\n",
    "\n",
    "# Dietary Habits and Degree columns\n",
    "test_data.fillna({'Degree': 'Unknown Degree', 'Dietary Habits': 'Moderate'}, inplace=True)\n",
    "\n",
    "# Financial Stress\n",
    "fillNaN(['Financial Stress'], 'mean')\n",
    "testcities = test_data['City'].unique()\n"
   ]
  },
  {
   "cell_type": "markdown",
   "id": "4e450f08",
   "metadata": {
    "papermill": {
     "duration": 0.003668,
     "end_time": "2024-11-30T08:14:20.213173",
     "exception": false,
     "start_time": "2024-11-30T08:14:20.209505",
     "status": "completed"
    },
    "tags": []
   },
   "source": [
    "checking all columns for values that are in one dataset but not in the other, as well as getting rid of nonsense data values"
   ]
  },
  {
   "cell_type": "code",
   "execution_count": 4,
   "id": "11d02524",
   "metadata": {
    "execution": {
     "iopub.execute_input": "2024-11-30T08:14:20.222506Z",
     "iopub.status.busy": "2024-11-30T08:14:20.222120Z",
     "iopub.status.idle": "2024-11-30T08:14:22.326107Z",
     "shell.execute_reply": "2024-11-30T08:14:22.325003Z"
    },
    "papermill": {
     "duration": 2.111709,
     "end_time": "2024-11-30T08:14:22.328637",
     "exception": false,
     "start_time": "2024-11-30T08:14:20.216928",
     "status": "completed"
    },
    "tags": []
   },
   "outputs": [],
   "source": [
    "# columns to fix: 'City', 'Profession', 'Degree'\n",
    "both_datasets = pd.concat([train_data, test_data], axis=0)\n",
    "# fixing weird profession names\n",
    "both_datasets['Profession'] = both_datasets['Profession'].replace({'Finanancial Analyst': 'Financial Analyst', 'B.Pharm': 'Pharmacist', 'M.Pharm': 'Pharmacist', 'Family Consultant': 'Consultant'})\n",
    "# replacing gibberish in the 'Profession' column with 'Unknown Profession'\n",
    "both_datasets['Profession'] = both_datasets['Profession'].replace(['Visakhapatnam', 'B.Ed', 'MCA', 'FamilyVirar', '24th', 'M.Ed', 'Working Professional', 'MBBS', 'BBA', 'B.Com', '3M', 'PhD', 'Pranav', 'Manvi', 'BE', 'Simran', 'No', 'Unveil', 'Patna', 'Name', 'LLM', 'Yogesh', 'MBA', 'Moderate', 'Profession', 'BCA', 'Samar', 'Unhealthy', 'ME', 'Yuvraj', 'Surat', 'Nagpur', 'Academic'], 'Unknown Profession')\n",
    "\n",
    "# Version 17: getting rid of nonsense degrees in the 'Degree' column\n",
    "both_datasets['Degree'] = both_datasets['Degree'].replace({'H_Pharm': 'B.Pharm', 'N_Pharm': 'M.Pharm', 'B._Pharm': 'B.Pharm', 'M.B.Ed': 'M.Ed', 'B.M.Com': 'M.Com', 'B BA': 'BBA', 'B B.Com': 'B.Com', 'BTech': 'B.Tech', 'B B.Tech': 'B.Tech', 'B.B.Arch': 'B.Arch', 'BPharm': 'B.Pharm', 'M.M.Ed': 'M.Ed', 'M. Business Analyst': 'MSBA', 'MTech': 'M.Tech', 'MEd': 'M.Ed', 'M_Tech': 'M.Tech', 'B Financial Analyst': 'BSBA', 'LLBA': 'BA', 'LL B.Ed': 'B.Ed', 'B BCA': 'BCA', 'BSc': 'BS'})\n",
    "both_datasets['Degree'] = both_datasets['Degree'].replace(['CGPA', 'Marsh', 'Vibha', 'LHM', 'PCA', '5.61', 'I.Ed', 'B.Study_Hours', 'Entrepreneur', 'Bhavesh', 'Working Professional', 'P.Com', 'Degree', 'Mahika', 'LLCom', '8.95', 'E.Ed', 'J.Ed', 'ME', 'LLM', '3.0', 'Badhya', 'Moham', 'Advait', '5.65', 'B._Pharm', 'M.B.Ed', 'RCA', 'Rupak', 'Vrinda', 'Kavya', 'UX/UI Designer', 'M', 'Travel Consultant', 'Veda', 'Mihir', 'Unite', 'Mthanya', 'B. Gender', 'L.Ed', 'Plumber', 'Unknown Degree', 'GCA', 'M.UI', 'Brit', 'Kalyan', 'G.Ed', 'LCA', 'LLTech', 'BH', 'HCA', 'A.Ed', 'S.Pharm', 'S.Tech', 'Vivaan', 'B.Student', 'M.', 'B.03', 'Business Analyst', 'Nalini', 'B.3.79', 'Aarav', 'Navya', 'K.Ed', 'Pihu', 'Banchal', 'B.H', 'Jhanvi', '8.56', 'BB', 'LLEd', 'Eshita', 'Bhopal', 'BHCA', 'Magan', '7.06', 'Aadhya', '5.88', 'Pune', '24', 'P.Pharm', 'Bian', 'Esha', 'LLS', '29', 'ACA', 'Brithika', 'Gagan', 'HR Manager', 'MHM', 'Mechanical Engineer', 'LL.Com', 'Doctor', '20', 'Lata', 'B', 'S.Arch', '0', 'Ritik', 'B.Press', 'E.Tech', '5.56'], 'Unknown Degree')\n",
    "\n",
    "# Version 17: getting rid of nonsense degrees in the 'City' column\n",
    "both_datasets['City'] = both_datasets['City'].replace(['Less Delhi', 'More Delhi'], 'Delhi') # im assuming these 2 values are typos for the city Delhi\n",
    "both_datasets['City'] = both_datasets['City'].replace(['Abhinav', 'Pooja', 'Unirar', 'Ayush', 'Lawyer', 'Armaan', 'Nalyan', 'Kagan', 'M.Com', 'Avni', 'Harsh', 'Mhopal', 'Kibara', 'Vaikot', 'ME', 'Kashish', 'Pratham', 'Molkata', 'Vaanya', 'Anvi', 'Ayansh', 'Khushi', 'Leela', 'Saanvi', 'Raghavendra', 'Harsha', 'Mihir', 'MSc', 'Moreadhyay', 'Vikram', 'Keshav', 'M.Tech', 'Chemist', 'Mahi', 'Kashk', 'Krinda', 'Malyan', 'Tushar', 'Saurav', 'San Vasai-Virar', 'Nandini', 'Mira', 'Krishna', 'Rolkata', 'Ivaan', 'Rashi', 'No', 'Siddhesh', 'Less than 5 Kalyan', 'Nalini', 'Aishwarya', 'Golkata', 'City', 'Vidya', 'Aaradhya', 'Ishanabad', 'Jhanvi', 'Khaziabad', 'Is Kanpur', 'No.12', 'Shrey', 'Aditya', 'Itheg', 'Bhavna', 'Atharv', 'Ghaziabad', 'Less than 5 hours', 'Parth', 'Ithal', 'Thani', 'Ghopal', 'Researcher', 'Vaishnavi', 'Chhavi', 'Malyansh', 'Galesabad', 'Hrithik', 'Reyansh', 'Tolkata', 'Ishkarsh', 'Dhruv', 'Pratyush', 'Sara', 'Vidhi', 'Aditi'], 'Unknown City')\n",
    "\n",
    "# getting train_data for the purpose of calculating the training data's mean sleep duration\n",
    "train_data = both_datasets.iloc[:len(train_data)].copy()"
   ]
  },
  {
   "cell_type": "markdown",
   "id": "d1f17a66",
   "metadata": {
    "papermill": {
     "duration": 0.00348,
     "end_time": "2024-11-30T08:14:22.336057",
     "exception": false,
     "start_time": "2024-11-30T08:14:22.332577",
     "status": "completed"
    },
    "tags": []
   },
   "source": [
    "#### Tidying the columns 'Sleep Duration' and 'Dietary Habits' cuz some of their values r just stupid\n",
    "\n",
    "messy ahh dataset"
   ]
  },
  {
   "cell_type": "code",
   "execution_count": 5,
   "id": "24e6527f",
   "metadata": {
    "execution": {
     "iopub.execute_input": "2024-11-30T08:14:22.345760Z",
     "iopub.status.busy": "2024-11-30T08:14:22.345313Z",
     "iopub.status.idle": "2024-11-30T08:14:27.381537Z",
     "shell.execute_reply": "2024-11-30T08:14:27.380350Z"
    },
    "papermill": {
     "duration": 5.044408,
     "end_time": "2024-11-30T08:14:27.384283",
     "exception": false,
     "start_time": "2024-11-30T08:14:22.339875",
     "status": "completed"
    },
    "tags": []
   },
   "outputs": [
    {
     "name": "stdout",
     "output_type": "stream",
     "text": [
      "25567\n"
     ]
    },
    {
     "data": {
      "image/png": "[encoded data removed]",
      "text/plain": [
       "<Figure size 640x480 with 1 Axes>"
      ]
     },
     "metadata": {},
     "output_type": "display_data"
    },
    {
     "data": {
      "image/png": "[encoded data removed]",
      "text/plain": [
       "<Figure size 640x480 with 1 Axes>"
      ]
     },
     "metadata": {},
     "output_type": "display_data"
    }
   ],
   "source": [
    "import matplotlib.pyplot as pyplot\n",
    "\n",
    "honkshoo = {\n",
    "    '40-45 hours': 6,\n",
    "    'More than 8 hours': 9,\n",
    "    '1-3 hours': 2,\n",
    "    '9-11 hours': 10,\n",
    "    '9-6 hours': 7,\n",
    "    '8 hours': 8,\n",
    "    '35-36 hours': 5,\n",
    "    '1-2 hours': 1,\n",
    "    '10-6 hours': 8,\n",
    "    'than 5 hours': 5,\n",
    "    '1-6 hours': 4,\n",
    "    '8-9 hours': 9,\n",
    "    '9-5': 7,\n",
    "    '9-10 hours': 9,\n",
    "    '20-21 hours': 3,\n",
    "    '5-6 hours': 6,\n",
    "    '45-48 hours': 7,\n",
    "    '2-3 hours': 3,\n",
    "    '6-7 hours': 6,\n",
    "    '55-66 hours': 9,\n",
    "    '45': 6,\n",
    "    '7-8 hours': 7,\n",
    "    '10-11 hours': 10,\n",
    "    '4-6 hours': 5,\n",
    "    'Less than 5 hours': 3,\n",
    "    '4-5 hours': 4,\n",
    "    '1-2 hours': 1,\n",
    "    '6-8 hours': 7,\n",
    "    '8-89 hours': 12,\n",
    "    '49 hours': 7,\n",
    "    '3-6 hours': 4,\n",
    "    '60-65 hours': 9,\n",
    "    '6 hours': 6,\n",
    "    '9-5 hours': 7,\n",
    "    '50-75 hours': 9,\n",
    "    '3-4 hours': 3\n",
    "}\n",
    "# column values not in honkshoo: Moderate, Unhealthy, Have_you_ever_had_suicidal_thoughts, Work_Study_Hours, No, Meerut, 0, Vivan, Indore, Sleep_Duration, Pune\n",
    "\n",
    "train_data['Sleep Duration'] = train_data['Sleep Duration'].map(honkshoo)\n",
    "both_datasets['Sleep Duration'] = both_datasets['Sleep Duration'].map(honkshoo)\n",
    "\n",
    "# replacing NaN values in 'Sleep Duration' with the mean\n",
    "meansleep = train_data['Sleep Duration'].mean()\n",
    "both_datasets['Sleep Duration'] = both_datasets['Sleep Duration'].fillna(meansleep)\n",
    "\n",
    "# moving on to 'Dietary Habits' column\n",
    "dhabits = {\n",
    "    'Unhealthy': 1,\n",
    "    'Moderate': 2,\n",
    "    'Healthy': 3,\n",
    "    'No Healthy': 1,\n",
    "    'More Healthy': 3,\n",
    "    'Less than Healthy': 1,\n",
    "    'Less Healthy': 1\n",
    "}\n",
    "both_datasets['Dietary Habits'] = both_datasets['Dietary Habits'].map(dhabits)\n",
    "both_datasets['Dietary Habits'] = both_datasets['Dietary Habits'].fillna(2)\n",
    "\n",
    "# gonna experiment and drop certain columns to see if they would improve accuracy\n",
    "both_datasets = both_datasets.drop(['City'], axis=1)\n",
    "# getting dummies in both_datasets so that both train_data and test_data will have the same columns after splitting\n",
    "both_datasets = pd.get_dummies(both_datasets)\n",
    "\n",
    "#Version 22, feature engineering 'satisfaction_per_financialstress' Edit: realised this variable has a positive coefficient meaning as this value goes up, the greater the model thinks one has depression, which should not be the case so ill '#' the following line of code.\n",
    "both_datasets['satisfaction_per_financialstress'] = both_datasets['Career Satisfaction']/both_datasets['Financial Stress']\n",
    "\n",
    "#Version 23, feature engineering 'CareerHours_to_Sleep' Edit: thinking of removing this as it has a negative correlation, which makes no sense as a high work hour to sleep hour ratio should be bad for a person. oh wait but maybe a certain range is good but a ratio thats too high or too low is bad. THIS COLUMN CAN BE THE START OF QUANTIFYING WORK-LIFE BALANCE omg eureka moment. print out the row and print a distribution, print the depression or not row as well to see whats the sweet spot for the ratio, see the max few rat\n",
    "both_datasets['CareerHours_to_Sleep'] = both_datasets['Work/Study Hours']/both_datasets['Sleep Duration']\n",
    "\n",
    "# splitting both_datasets to get back train_data and test_data\n",
    "train_data = both_datasets.iloc[:len(train_data)].copy()\n",
    "test_data = both_datasets.iloc[len(train_data):].copy()\n",
    "\n",
    "# Version 23: seeing the distribution of the 'CareerHours_to_Sleep' values in the train_data for both rows with and without depression\n",
    "# this is to try and see what kind of ratios are most common in people with depression and without\n",
    "train_depressed = train_data[train_data['Depression'] == 1] # with depression\n",
    "print(len(train_depressed))\n",
    "ratio1 = train_depressed['satisfaction_per_financialstress']\n",
    "ratio1 = np.array(ratio1)\n",
    "pyplot.hist(ratio1, bins=8) \n",
    "pyplot.xlabel('ratio1')\n",
    "pyplot.ylabel('frequency')\n",
    "pyplot.show()\n",
    "\n",
    "train_notdepressed = train_data[train_data['Depression'] == 0]\n",
    "ratio0 = train_notdepressed['satisfaction_per_financialstress']\n",
    "ratio0 = np.array(ratio0)\n",
    "pyplot.hist(ratio0, bins=8) \n",
    "pyplot.xlabel('ratio0')\n",
    "pyplot.ylabel('frequency')\n",
    "pyplot.show()\n",
    "\n",
    "# # converting 'satisfaction_per_financialstress' into columns 'financiallyjustified' and 'financiallynotjustified'. Edit: putting this on hold for now\n",
    "# train_data['financiallyjustified'] = train_data['satisfaction_per_financialstress'] >= 1\n",
    "# train_data['financiallynotjustified'] = train_data['satisfaction_per_financialstress'] < 1\n",
    "# test_data['financiallyjustified'] = test_data['satisfaction_per_financialstress'] >= 1\n",
    "# test_data['financiallynotjustified'] = test_data['satisfaction_per_financialstress'] < 1\n",
    "\n",
    "# it is with sadness that i announce the removal of my homie, column 'CareerHours_to_Sleep', from the dataset. And satisfaction_per_financialstress too, i dont need u no more\n",
    "train_data = train_data.drop(['CareerHours_to_Sleep','satisfaction_per_financialstress'], axis=1)\n",
    "test_data = test_data.drop(['CareerHours_to_Sleep', 'satisfaction_per_financialstress'], axis=1)\n",
    "\n",
    "# Version 31 dealing with feature correlation\n",
    "correlation_matrix = train_data.corr()\n",
    "# print(correlation_matrix)\n",
    "train_data = train_data.drop(['Have you ever had suicidal thoughts ?_No','Family History of Mental Illness_No', 'Working Professional or Student_Student'], axis=1)\n",
    "test_data = test_data.drop(['Have you ever had suicidal thoughts ?_No', 'Family History of Mental Illness_No', 'Working Professional or Student_Student'], axis=1)"
   ]
  },
  {
   "cell_type": "markdown",
   "id": "98e25b61",
   "metadata": {
    "papermill": {
     "duration": 0.004071,
     "end_time": "2024-11-30T08:14:27.393875",
     "exception": false,
     "start_time": "2024-11-30T08:14:27.389804",
     "status": "completed"
    },
    "tags": []
   },
   "source": [
    "# 2) Configuring Machine Learning model (finally)"
   ]
  },
  {
   "cell_type": "code",
   "execution_count": 6,
   "id": "9071cef3",
   "metadata": {
    "execution": {
     "iopub.execute_input": "2024-11-30T08:14:27.404384Z",
     "iopub.status.busy": "2024-11-30T08:14:27.403974Z",
     "iopub.status.idle": "2024-11-30T08:14:36.188761Z",
     "shell.execute_reply": "2024-11-30T08:14:36.187408Z"
    },
    "papermill": {
     "duration": 8.793072,
     "end_time": "2024-11-30T08:14:36.191271",
     "exception": false,
     "start_time": "2024-11-30T08:14:27.398199",
     "status": "completed"
    },
    "tags": []
   },
   "outputs": [
    {
     "name": "stdout",
     "output_type": "stream",
     "text": [
      "99\n",
      "Threshold: 0.5, TPR: 0.8159095417575878, FPR: 0.03372440365383783, Accuracy: 0.93933\n",
      "Threshold: 0.5, TPR: 0.8165046617734576, FPR: 0.03372440365383783, Accuracy: 0.93944\n",
      "Threshold: 0.5, TPR: 0.8165046617734576, FPR: 0.03372440365383783, Accuracy: 0.93944\n"
     ]
    },
    {
     "data": {
      "image/png": "[encoded data removed]",
      "text/plain": [
       "<Figure size 640x480 with 1 Axes>"
      ]
     },
     "metadata": {},
     "output_type": "display_data"
    }
   ],
   "source": [
    "# getting X and y from the train_data\n",
    "X = train_data.drop('Depression', axis=1)\n",
    "columnnames = X.columns\n",
    "print(len(columnnames))\n",
    "y = train_data['Depression']\n",
    "\n",
    "# scaling the numerical values in X\n",
    "from sklearn.preprocessing import StandardScaler, MinMaxScaler\n",
    "scaler = StandardScaler()\n",
    "X = scaler.fit_transform(X)\n",
    "X = pd.DataFrame(X, columns=columnnames)\n",
    "\n",
    "# splitting up the training data further to get a mock test dataset\n",
    "from sklearn.model_selection import train_test_split\n",
    "X_train, X_test, y_train, y_test = train_test_split(X, y, test_size=0.2, random_state=0)\n",
    "\n",
    "# to start, lets try a simple Logistic Regression classification model with just 1 custom hyperparam\n",
    "from sklearn.linear_model import LogisticRegression\n",
    "\n",
    "model = LogisticRegression(random_state=0, max_iter=200, penalty='l2', C=0.1) # Version 25: introducing l2 regularization\n",
    "model.fit(X_train, y_train)\n",
    "# predictions = model.predict(X_test)\n",
    "\n",
    "# looping thru different threshold values to get coords for roc curve\n",
    "from sklearn.metrics import accuracy_score, confusion_matrix\n",
    "yaxis = []\n",
    "xaxis= []\n",
    "cs = [0.1, 1, 10]\n",
    "for cvalue in cs:\n",
    "    model = LogisticRegression(random_state=0, max_iter=900, penalty='l2', C=cvalue) # Version 25: introducing l2 regularization\n",
    "    model.fit(X_train, y_train)\n",
    "    TPRvalues = []\n",
    "    FPRvalues = []\n",
    "    thresholds = [0.5, 0.525, 0.55]\n",
    "    for threshold in thresholds:\n",
    "        y_probs = model.predict_proba(X_test)[:, 1]  # Probabilities for the positive class\n",
    "        predictions = (y_probs >= threshold).astype(int)\n",
    "        cm = confusion_matrix(y_test, predictions)\n",
    "        # Extract TP, FP, TN, FN from the confusion matrix\n",
    "        TP = cm[1, 1]  # True Positives\n",
    "        TN = cm[0, 0]  # True Negatives\n",
    "        FP = cm[0, 1]  # False Positives\n",
    "        FN = cm[1, 0]  # False Negatives\n",
    "        \n",
    "        # Calculate True Positive Rate (TPR) and False Positive Rate (FPR)\n",
    "        TPR = TP / (TP + FN)\n",
    "        FPR = FP / (FP + TN)\n",
    "    \n",
    "        TPRvalues.append(TPR)\n",
    "        FPRvalues.append(FPR)\n",
    "        accuracy = accuracy_score(y_test, predictions)\n",
    "        if accuracy >= 0.9392:\n",
    "            print(f'Threshold: {threshold}, TPR: {TPR}, FPR: {FPR}, Accuracy: {str(accuracy)[:7]}')\n",
    "    yaxis.append(TPRvalues)\n",
    "    xaxis.append(FPRvalues)\n",
    "\n",
    "# plotting ROC curve now\n",
    "import matplotlib.pyplot as plt\n",
    "for i in range(len(yaxis)):\n",
    "    plt.plot(xaxis[i], yaxis[i], label=str(cs[i]))\n",
    "# plt.xlim(0.03, 0.036)\n",
    "# plt.ylim(0.78, 0.82)\n",
    "plt.xlabel('FPR')\n",
    "plt.ylabel('TPR')\n",
    "plt.title('TPR against FPR (ROC Curve)')\n",
    "plt.legend()\n",
    "plt.show()\n",
    "    \n",
    "# # taking a closer look at the test_data which the predictor got wrong\n",
    "# X_test['actual'] = y_test\n",
    "# wrong = X_test[predictions != y_test]\n",
    "# pd.set_option('display.max_columns', None)\n",
    "# for row in range(len(wrong)):\n",
    "#     print(wrong.iloc[row])"
   ]
  },
  {
   "cell_type": "markdown",
   "id": "42b1aa0e",
   "metadata": {
    "papermill": {
     "duration": 0.005046,
     "end_time": "2024-11-30T08:14:36.201757",
     "exception": false,
     "start_time": "2024-11-30T08:14:36.196711",
     "status": "completed"
    },
    "tags": []
   },
   "source": [
    "# Submission"
   ]
  },
  {
   "cell_type": "code",
   "execution_count": 7,
   "id": "115a7166",
   "metadata": {
    "execution": {
     "iopub.execute_input": "2024-11-30T08:14:36.214154Z",
     "iopub.status.busy": "2024-11-30T08:14:36.213603Z",
     "iopub.status.idle": "2024-11-30T08:14:38.160926Z",
     "shell.execute_reply": "2024-11-30T08:14:38.159628Z"
    },
    "papermill": {
     "duration": 1.956996,
     "end_time": "2024-11-30T08:14:38.163997",
     "exception": false,
     "start_time": "2024-11-30T08:14:36.207001",
     "status": "completed"
    },
    "tags": []
   },
   "outputs": [
    {
     "name": "stdout",
     "output_type": "stream",
     "text": [
      "           id  Depression\n",
      "0      140700         0.0\n",
      "1      140701         0.0\n",
      "2      140702         0.0\n",
      "3      140703         1.0\n",
      "4      140704         0.0\n",
      "...       ...         ...\n",
      "93795  234495         0.0\n",
      "93796  234496         1.0\n",
      "93797  234497         0.0\n",
      "93798  234498         1.0\n",
      "93799  234499         0.0\n",
      "\n",
      "[93800 rows x 2 columns]\n",
      "success yahuu\n"
     ]
    }
   ],
   "source": [
    "model.fit(X, y)\n",
    "test_data = test_data.drop('Depression', axis=1)\n",
    "cols = test_data.columns\n",
    "test_data = scaler.fit_transform(test_data)\n",
    "test_data = pd.DataFrame(test_data, columns=cols)\n",
    "pred = model.predict(test_data)\n",
    "\n",
    "# creating submission Dataframe\n",
    "output = pd.DataFrame({'id': Id_Series, 'Depression': pred})\n",
    "print(output)\n",
    "output.to_csv('submission.csv', index=False)\n",
    "print('success yahuu')"
   ]
  }
 ],
 "metadata": {
  "kaggle": {
   "accelerator": "none",
   "dataSources": [
    {
     "databundleVersionId": 10008389,
     "sourceId": 84895,
     "sourceType": "competition"
    }
   ],
   "dockerImageVersionId": 30786,
   "isGpuEnabled": false,
   "isInternetEnabled": true,
   "language": "python",
   "sourceType": "notebook"
  },
  "kernelspec": {
   "display_name": "Python 3",
   "language": "python",
   "name": "python3"
  },
  "language_info": {
   "codemirror_mode": {
    "name": "ipython",
    "version": 3
   },
   "file_extension": ".py",
   "mimetype": "text/x-python",
   "name": "python",
   "nbconvert_exporter": "python",
   "pygments_lexer": "ipython3",
   "version": "3.10.14"
  },
  "papermill": {
   "default_parameters": {},
   "duration": 23.756629,
   "end_time": "2024-11-30T08:14:38.791990",
   "environment_variables": {},
   "exception": null,
   "input_path": "__notebook__.ipynb",
   "output_path": "__notebook__.ipynb",
   "parameters": {},
   "start_time": "2024-11-30T08:14:15.035361",
   "version": "2.6.0"
  }
 },
 "nbformat": 4,
 "nbformat_minor": 5
}
